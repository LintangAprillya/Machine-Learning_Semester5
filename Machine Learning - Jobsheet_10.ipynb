{
  "nbformat": 4,
  "nbformat_minor": 0,
  "metadata": {
    "colab": {
      "provenance": [],
      "gpuType": "V28",
      "include_colab_link": true
    },
    "kernelspec": {
      "name": "python3",
      "display_name": "Python 3"
    },
    "language_info": {
      "name": "python"
    },
    "accelerator": "TPU"
  },
  "cells": [
    {
      "cell_type": "markdown",
      "metadata": {
        "id": "view-in-github",
        "colab_type": "text"
      },
      "source": [
        "<a href=\"https://colab.research.google.com/github/LintangAprillya/Machine-Learning_Semester5/blob/main/Machine%20Learning%20-%20Jobsheet_10.ipynb\" target=\"_parent\"><img src=\"https://colab.research.google.com/assets/colab-badge.svg\" alt=\"Open In Colab\"/></a>"
      ]
    },
    {
      "cell_type": "markdown",
      "source": [
        "\n",
        "---\n",
        "\n",
        " **Job Sheet 10: Recurrent Neural Network (RNN)**\n",
        "\n",
        "---"
      ],
      "metadata": {
        "id": "94Z-UgJPlMj7"
      }
    },
    {
      "cell_type": "markdown",
      "source": [
        "\n",
        "---\n",
        "\n",
        "\n",
        "\n",
        "---\n",
        "\n",
        "Nama  : Lintang Aprillya Sari\n",
        "\n",
        "Kelas : 3C\n",
        "\n",
        "Absen : 13\n",
        "\n",
        "NIM   : 2241720231\n",
        "\n",
        "---\n",
        "\n",
        "\n",
        "\n",
        "---\n",
        "\n"
      ],
      "metadata": {
        "id": "PAuDn4O3lVza"
      }
    },
    {
      "cell_type": "markdown",
      "source": [
        "# **Praktikum 1**"
      ],
      "metadata": {
        "id": "eCNL_LzllYnF"
      }
    },
    {
      "cell_type": "markdown",
      "source": [
        "##**Setup**"
      ],
      "metadata": {
        "id": "bgdX0QnCleeR"
      }
    },
    {
      "cell_type": "markdown",
      "source": [
        "Impor matplotlib dan buat fungsi pembantu untuk memplot grafik:"
      ],
      "metadata": {
        "id": "-RObqeOymy4Q"
      }
    },
    {
      "cell_type": "code",
      "source": [
        "import numpy as np\n",
        "import tensorflow_datasets as tfds\n",
        "import tensorflow as tf\n",
        "\n",
        "tfds.disable_progress_bar()"
      ],
      "metadata": {
        "id": "JhUWkkLXm2nt"
      },
      "execution_count": null,
      "outputs": []
    },
    {
      "cell_type": "code",
      "source": [
        "import matplotlib.pyplot as plt\n",
        "\n",
        "def plot_graphs(history, metric):\n",
        "  plt.plot(history.history[metric])\n",
        "  plt.plot(history.history['val_'+metric], '')\n",
        "  plt.xlabel(\"Epochs\")\n",
        "  plt.ylabel(metric)\n",
        "  plt.legend([metric, 'val_'+metric])"
      ],
      "metadata": {
        "id": "PhKKzbf8nUgq"
      },
      "execution_count": null,
      "outputs": []
    },
    {
      "cell_type": "markdown",
      "source": [
        "**Keterangan :**\n",
        "- Mengimpor library yang diperlukan seperti numpy, tensorflow_datasets, tensorflow, dan matplotlib untuk memvisualisasikan hasil.\n",
        "- plot_graphs adalah fungsi pembantu untuk memplot grafik accuracy dan loss selama pelatihan dan validasi."
      ],
      "metadata": {
        "id": "Vjv-yqEUnfek"
      }
    },
    {
      "cell_type": "markdown",
      "source": [
        "##**Setup Input Pipeline**"
      ],
      "metadata": {
        "id": "vnxOYOxsmJA8"
      }
    },
    {
      "cell_type": "markdown",
      "source": [
        "Dataset ulasan film IMDB adalah kumpulan data klasifikasi biner—semua ulasan memiliki sentimen positif atau negatif.\n",
        "\n",
        "Download dataset menggunakan TFDS. Lihat loading text tutorial jika ingin me load data secara manual"
      ],
      "metadata": {
        "id": "BgyxpEA6oO61"
      }
    },
    {
      "cell_type": "code",
      "source": [
        "dataset, info = tfds.load('imdb_reviews', with_info=True,\n",
        "                          as_supervised=True)\n",
        "train_dataset, test_dataset = dataset['train'], dataset['test']\n",
        "\n",
        "train_dataset.element_spec"
      ],
      "metadata": {
        "colab": {
          "base_uri": "https://localhost:8080/"
        },
        "id": "x09aYlpHoQ_F",
        "outputId": "3f3775a8-59cf-40cc-a668-29286cf9ced8"
      },
      "execution_count": null,
      "outputs": [
        {
          "output_type": "stream",
          "name": "stdout",
          "text": [
            "Downloading and preparing dataset 80.23 MiB (download: 80.23 MiB, generated: Unknown size, total: 80.23 MiB) to /root/tensorflow_datasets/imdb_reviews/plain_text/1.0.0...\n",
            "Dataset imdb_reviews downloaded and prepared to /root/tensorflow_datasets/imdb_reviews/plain_text/1.0.0. Subsequent calls will reuse this data.\n"
          ]
        },
        {
          "output_type": "execute_result",
          "data": {
            "text/plain": [
              "(TensorSpec(shape=(), dtype=tf.string, name=None),\n",
              " TensorSpec(shape=(), dtype=tf.int64, name=None))"
            ]
          },
          "metadata": {},
          "execution_count": 3
        }
      ]
    },
    {
      "cell_type": "markdown",
      "source": [
        "Awalnya ini mengembalikan dataset (teks, pasangan label):"
      ],
      "metadata": {
        "id": "zVLq-K3LoUXM"
      }
    },
    {
      "cell_type": "code",
      "source": [
        "for example, label in train_dataset.take(1):\n",
        "  print('text: ', example.numpy())\n",
        "  print('label: ', label.numpy())"
      ],
      "metadata": {
        "colab": {
          "base_uri": "https://localhost:8080/"
        },
        "id": "Hm9ZoXVLoVsV",
        "outputId": "4669efd6-c268-4c4c-facf-297a02c0e0da"
      },
      "execution_count": null,
      "outputs": [
        {
          "output_type": "stream",
          "name": "stdout",
          "text": [
            "text:  b\"This was an absolutely terrible movie. Don't be lured in by Christopher Walken or Michael Ironside. Both are great actors, but this must simply be their worst role in history. Even their great acting could not redeem this movie's ridiculous storyline. This movie is an early nineties US propaganda piece. The most pathetic scenes were those when the Columbian rebels were making their cases for revolutions. Maria Conchita Alonso appeared phony, and her pseudo-love affair with Walken was nothing but a pathetic emotional plug in a movie that was devoid of any real meaning. I am disappointed that there are movies like this, ruining actor's like Christopher Walken's good name. I could barely sit through it.\"\n",
            "label:  0\n"
          ]
        }
      ]
    },
    {
      "cell_type": "markdown",
      "source": [
        "Berikutnya acak data untuk pelatihan dan membuat kumpulan pasangan (teks, label) ini:\n",
        "\n"
      ],
      "metadata": {
        "id": "ff6tzq8bolER"
      }
    },
    {
      "cell_type": "code",
      "source": [
        "BUFFER_SIZE = 10000\n",
        "BATCH_SIZE = 64\n",
        "\n",
        "train_dataset = train_dataset.shuffle(BUFFER_SIZE).batch(BATCH_SIZE).prefetch(tf.data.AUTOTUNE)\n",
        "test_dataset = test_dataset.batch(BATCH_SIZE).prefetch(tf.data.AUTOTUNE)\n",
        "\n",
        "for example, label in train_dataset.take(1):\n",
        "  print('texts: ', example.numpy()[:3])\n",
        "  print()\n",
        "  print('labels: ', label.numpy()[:3])\n"
      ],
      "metadata": {
        "colab": {
          "base_uri": "https://localhost:8080/"
        },
        "id": "fiX8nJhCom2m",
        "outputId": "fd295225-a3be-464f-fafd-1a4f9e726cea"
      },
      "execution_count": null,
      "outputs": [
        {
          "output_type": "stream",
          "name": "stdout",
          "text": [
            "texts:  [b'I wasn\\'t at all a fan of the 2005 gore fest hit \"Hostel\", and most of these lame ass knock-offs are just as bad or worse - yet \"Live Feed\" managed to keep me somewhat entertained for about the first 30 minutes. Started off with plenty of sex and sleazy settings, followed by some good death scenes involving the Chinese Organized Crime Squad and a 7-foot, leather-aproned butcher... What put me out of the movie was the tough \\'hero\\' with the guns and a grudge saving the day... I would call this movie mediocre, at best, since a premise mainly involving obnoxious young people being slaughtered in a seedy porno theater, doubling as a hideout for the mafia, is appealing to me. If only the torture was prolonged enough to be thoroughly effective, then my rating would have differed greatly. Unfortunately, most of the gruesomeness is heaped together in one scene, leaving the rest of the movie to conclude as a revenge-type scenario. So, basically, it IS just a low-budget \"Hostel\" rip-off with the redeeming use of gratuitous sex, almost constant during the first half of the film... Overall, I would say don\\'t bother with this one.'\n",
            " b\"Start of with the good bit: several times Swayze talks Zulu to his friends or that language is heard among the tribes. That's a great plus, as normally USA & UK movie audiences think all people on this planet speak English (just in case you're one of them: no they don't).<br /><br />But the acting is 'tenenkrommend' as we say in The Netherlands (it makes your toes curl -and not in a good way). I like Swayze but in this he's awful. The muscles in his jaws make overtime and he's frowning the whole movie -some one must have told him it looks butch. No Patrick: it looks silly and is compensation for lack of character. Alison Doody (Elizabeth) has opted for a style of acting that does not meet the style of her co-workers. Her acting is s\\xc3\\xb3 relaxed that this movie could have been set in the current days. And it's not. Your frock was a clue, Alison.<br /><br />The best acting came from the people from the African Continent and Sided Onyulo as Umbopa I liked best. Clear, warm and in character, his performance is a joy to watch. <br /><br />General: it is mwah-entertaining on a rainy day. Pity. Could have been better. Sack the director.\"\n",
            " b\"If you've ever wanted to see a film that stresses style over substance, this is for you. To me, Son de Mar is beautiful to SEE, but there's precious little substance, unless mawkish, melodramatic, manipulative love yarns turn you on. This may be one of those famous 'chick flicks' you've heard so much about. <br /><br />We're about half-way through this film before anything really happens: Ulises (Jordi Molla) goes out to sea looking for tuna, and doesn't come back, leaving his wife Martina (Leonor Watling) and son to fend for themselves. Then, in a furious six minutes of screen time, they bury Ulises, Martina gets married again, and her son grows into mid-childhood. This rapid transposition is jarring, to say the least, and very sloppy: after 40 minutes of more or less hanging around, we're suddenly into a full-blown melodrama, all in six minutes. I think this is called wayward narrative pacing.<br /><br />Five years later, Ulises (as in the wandering superhero Ulysses; get it?), returns to his 'Penelope' (Watling) only to find she's married to Sierra (Eduard Fernandez), an inexplicably wealthy guy (what does he DO to earn all that dough?) who inexplicably keeps crocodiles as pets. When Martina, in great anger, questions Ulises about his absence, he tells her that he'll take her to the island of Sumatra someday and she'll understand EVERYTHING.<br /><br />And here's the thing: he DOESN'T take her to the island of Sumatra. The reference just dies somewhere in the script. He DOESN'T really explain where he was and why he ignored his wife and child for five years. He DOESN'T acquit himself as an honourable guy, and the movie DOESN'T fill in the plot holes that are staring at us for at least half of the film. I can only assume that director Bigas Luna wants us to fill in the story lines with the mystical clues (fish, reptiles, the sea) he offers through breathtaking cinematography and evasive dialogue. It just doesn't work. The narrative 'arc' on this film ends up looking more like a wobbly clothesline.<br /><br />I'm sure Jordi Molla is a good actor, but I just couldn't buy his Ulises as any kind of hero (which is what the original Ulysses was supposed to be). With moist sensuality, he spouts a short stanza of identical poetry from Virgil roughly 2,000 times and each and every time it excites Martina to explosive orgasm. This guy should be rented out to reinvigorate stale marriages. I'm sure Virgil would be impressed. He didn't get laid that often, as I understand it. <br /><br />This poetic 'device' figures prominently in the film, and I had no choice but to assume it was a gender reversal of Ulysses' famous 'siren song' (i.e. beautiful maidens singing seductively to far-off sailors, who were doomed if they answered the, well, siren call). If this is what Bigas Luna is up to, you can see the problem -- he's offering convoluted symbolism in a snatch-and-grab attempt at High Art. Once again, it just doesn't work, at least in my eyes.<br /><br />Watling is a beautiful and magnetic young actor, but she gives us a character here who doesn't seem to have much intellectual or even romantic depth. It's beyond me how she could desperately fall in love with a guy who sports a for-rent sign on his face (as in vacant), oily 1960s-style hair that looks more like seaweed, and one of those trendy 21st-century 'beards' (you know, four days' growth, no more, no less). He's SUPPOSED to be a dreamy kind of guy (I think), but those eyes of his suggest he might be suffering more from overexposure to a preposterous script. <br /><br />But, don't despair, this film is great to look at. Just don't try to connect the dots on the red herrings or think too much about what you're hearing in the way of dialogue. You can do a lost of fast-forwarding on this film (particularly in the first 40 minutes) and you really won't miss much.\"]\n",
            "\n",
            "labels:  [0 0 0]\n"
          ]
        }
      ]
    },
    {
      "cell_type": "markdown",
      "source": [
        "**Keterangan :**\n",
        "- Menggunakan dataset ulasan film IMDB dari tensorflow_datasets (tfds), yang merupakan dataset klasifikasi biner untuk sentimen positif dan negatif.\n",
        "- Memisahkan dataset menjadi train_dataset dan test_dataset.\n",
        "- Mengacak dan membagi dataset menjadi batch untuk pelatihan, menggunakan BUFFER_SIZE dan BATCH_SIZE."
      ],
      "metadata": {
        "id": "jDCsr1-xora1"
      }
    },
    {
      "cell_type": "markdown",
      "source": [
        "##**Buat Teks Encoder**"
      ],
      "metadata": {
        "id": "KynN9foUmO6l"
      }
    },
    {
      "cell_type": "markdown",
      "source": [
        "Teks mentah yang dimuat oleh tfds perlu diproses sebelum dapat digunakan dalam model. Cara termudah memproses teks untuk pelatihan adalah menggunakan lapisan TextVectorization. Lapisan ini memiliki banyak kemampuan, namun pada tutorial ini menggunakan perilaku default. Buat lapisan tersebut, dan teruskan teks kumpulan data ke metode .adapt lapisan:"
      ],
      "metadata": {
        "id": "hok4301Aoz9F"
      }
    },
    {
      "cell_type": "code",
      "source": [
        "VOCAB_SIZE = 1000\n",
        "encoder = tf.keras.layers.TextVectorization(\n",
        "    max_tokens=VOCAB_SIZE)\n",
        "encoder.adapt(train_dataset.map(lambda text, label: text))"
      ],
      "metadata": {
        "id": "_7hfjkMJo0Tf"
      },
      "execution_count": null,
      "outputs": []
    },
    {
      "cell_type": "markdown",
      "source": [
        "Metode .adapt mengatur kosakata lapisan. 20 token pertama dapat dilihat dengan kode berikut. Setelah padding dan token yang tidak diketahui, mereka diurutkan berdasarkan frekuensi:"
      ],
      "metadata": {
        "id": "1WLIstymo3Ml"
      }
    },
    {
      "cell_type": "code",
      "source": [
        "vocab=np.array(encoder.get_vocabulary())\n",
        "vocab[:20]"
      ],
      "metadata": {
        "colab": {
          "base_uri": "https://localhost:8080/"
        },
        "id": "RvZ5WdrPo3sX",
        "outputId": "6b007647-0553-4271-a3a6-b05f264cd6a4"
      },
      "execution_count": null,
      "outputs": [
        {
          "output_type": "execute_result",
          "data": {
            "text/plain": [
              "array(['', '[UNK]', 'the', 'and', 'a', 'of', 'to', 'is', 'in', 'it', 'i',\n",
              "       'this', 'that', 'br', 'was', 'as', 'for', 'with', 'movie', 'but'],\n",
              "      dtype='<U14')"
            ]
          },
          "metadata": {},
          "execution_count": 7
        }
      ]
    },
    {
      "cell_type": "markdown",
      "source": [
        "Setelah kosakata diatur, lapisan dapat mengkodekan teks ke dalam indeks. Tensor indeks diberi bantalan 0 ke urutan terpanjang dalam batch (kecuali jika Anda menetapkan output_sequence_length tetap):"
      ],
      "metadata": {
        "id": "kNGiuHNro8xh"
      }
    },
    {
      "cell_type": "code",
      "source": [
        "encoded_example=encoder(example)[:3].numpy()\n",
        "encoded_example"
      ],
      "metadata": {
        "colab": {
          "base_uri": "https://localhost:8080/"
        },
        "id": "FPiKQanxo-gx",
        "outputId": "0542ef5d-a205-4abc-c111-db64986f9726"
      },
      "execution_count": null,
      "outputs": [
        {
          "output_type": "execute_result",
          "data": {
            "text/plain": [
              "array([[ 10, 268,  31, ...,   0,   0,   0],\n",
              "       [369,   5,  17, ...,   0,   0,   0],\n",
              "       [ 45, 825, 122, ..., 469, 714,  73]])"
            ]
          },
          "metadata": {},
          "execution_count": 8
        }
      ]
    },
    {
      "cell_type": "markdown",
      "source": [
        "Dengan pengaturan default, prosesnya tidak dapat dibalik sepenuhnya. Ada dua alasan utama untuk itu:\n",
        "\n",
        "- Nilai default untuk argumen standarisasi preprocessing.TextVectorization adalah \"lower_and_strip_punctuation\".\n",
        "\n",
        "- Ukuran kosa kata yang terbatas dan kurangnya fallback berbasis karakter menghasilkan beberapa token yang tidak diketahui."
      ],
      "metadata": {
        "id": "jRP-bxQGpBSY"
      }
    },
    {
      "cell_type": "code",
      "source": [
        "for n in range(3):\n",
        "  print(\"Original: \", example[n].numpy())\n",
        "  print(\"Round-trip: \", \" \".join(vocab[encoded_example[n]]))\n",
        "  print()"
      ],
      "metadata": {
        "colab": {
          "base_uri": "https://localhost:8080/"
        },
        "id": "h2nLx2LhpGb0",
        "outputId": "d60775d9-aa81-4f1c-cf97-22719bba845b"
      },
      "execution_count": null,
      "outputs": [
        {
          "output_type": "stream",
          "name": "stdout",
          "text": [
            "Original:  b'I wasn\\'t at all a fan of the 2005 gore fest hit \"Hostel\", and most of these lame ass knock-offs are just as bad or worse - yet \"Live Feed\" managed to keep me somewhat entertained for about the first 30 minutes. Started off with plenty of sex and sleazy settings, followed by some good death scenes involving the Chinese Organized Crime Squad and a 7-foot, leather-aproned butcher... What put me out of the movie was the tough \\'hero\\' with the guns and a grudge saving the day... I would call this movie mediocre, at best, since a premise mainly involving obnoxious young people being slaughtered in a seedy porno theater, doubling as a hideout for the mafia, is appealing to me. If only the torture was prolonged enough to be thoroughly effective, then my rating would have differed greatly. Unfortunately, most of the gruesomeness is heaped together in one scene, leaving the rest of the movie to conclude as a revenge-type scenario. So, basically, it IS just a low-budget \"Hostel\" rip-off with the redeeming use of gratuitous sex, almost constant during the first half of the film... Overall, I would say don\\'t bother with this one.'\n",
            "Round-trip:  i wasnt at all a fan of the [UNK] gore [UNK] hit [UNK] and most of these lame [UNK] [UNK] are just as bad or worse yet live [UNK] [UNK] to keep me somewhat [UNK] for about the first [UNK] minutes started off with plenty of sex and [UNK] [UNK] [UNK] by some good death scenes [UNK] the [UNK] [UNK] crime [UNK] and a [UNK] [UNK] [UNK] what put me out of the movie was the [UNK] hero with the [UNK] and a [UNK] [UNK] the day i would call this movie [UNK] at best since a premise [UNK] [UNK] [UNK] young people being [UNK] in a [UNK] [UNK] theater [UNK] as a [UNK] for the [UNK] is [UNK] to me if only the [UNK] was [UNK] enough to be [UNK] [UNK] then my rating would have [UNK] [UNK] unfortunately most of the [UNK] is [UNK] together in one scene [UNK] the rest of the movie to [UNK] as a [UNK] [UNK] so basically it is just a [UNK] [UNK] [UNK] with the [UNK] use of [UNK] sex almost [UNK] during the first half of the film overall i would say dont [UNK] with this one                                                                                                                                                                                                                                                                                                                                                                                                                                                                                            \n",
            "\n",
            "Original:  b\"Start of with the good bit: several times Swayze talks Zulu to his friends or that language is heard among the tribes. That's a great plus, as normally USA & UK movie audiences think all people on this planet speak English (just in case you're one of them: no they don't).<br /><br />But the acting is 'tenenkrommend' as we say in The Netherlands (it makes your toes curl -and not in a good way). I like Swayze but in this he's awful. The muscles in his jaws make overtime and he's frowning the whole movie -some one must have told him it looks butch. No Patrick: it looks silly and is compensation for lack of character. Alison Doody (Elizabeth) has opted for a style of acting that does not meet the style of her co-workers. Her acting is s\\xc3\\xb3 relaxed that this movie could have been set in the current days. And it's not. Your frock was a clue, Alison.<br /><br />The best acting came from the people from the African Continent and Sided Onyulo as Umbopa I liked best. Clear, warm and in character, his performance is a joy to watch. <br /><br />General: it is mwah-entertaining on a rainy day. Pity. Could have been better. Sack the director.\"\n",
            "Round-trip:  start of with the good bit several times [UNK] [UNK] [UNK] to his friends or that [UNK] is heard among the [UNK] thats a great plus as [UNK] [UNK] [UNK] movie [UNK] think all people on this [UNK] [UNK] english just in case youre one of them no they [UNK] br but the acting is [UNK] as we say in the [UNK] it makes your [UNK] [UNK] and not in a good way i like [UNK] but in this hes awful the [UNK] in his [UNK] make [UNK] and hes [UNK] the whole movie some one must have told him it looks [UNK] no [UNK] it looks silly and is [UNK] for lack of character [UNK] [UNK] [UNK] has [UNK] for a style of acting that does not meet the style of her [UNK] her acting is [UNK] [UNK] that this movie could have been set in the [UNK] days and its not your [UNK] was a [UNK] [UNK] br the best acting came from the people from the [UNK] [UNK] and [UNK] [UNK] as [UNK] i liked best clear [UNK] and in character his performance is a [UNK] to watch br br general it is [UNK] on a [UNK] day [UNK] could have been better [UNK] the director                                                                                                                                                                                                                                                                                                                                                                                                                                                                               \n",
            "\n",
            "Original:  b\"If you've ever wanted to see a film that stresses style over substance, this is for you. To me, Son de Mar is beautiful to SEE, but there's precious little substance, unless mawkish, melodramatic, manipulative love yarns turn you on. This may be one of those famous 'chick flicks' you've heard so much about. <br /><br />We're about half-way through this film before anything really happens: Ulises (Jordi Molla) goes out to sea looking for tuna, and doesn't come back, leaving his wife Martina (Leonor Watling) and son to fend for themselves. Then, in a furious six minutes of screen time, they bury Ulises, Martina gets married again, and her son grows into mid-childhood. This rapid transposition is jarring, to say the least, and very sloppy: after 40 minutes of more or less hanging around, we're suddenly into a full-blown melodrama, all in six minutes. I think this is called wayward narrative pacing.<br /><br />Five years later, Ulises (as in the wandering superhero Ulysses; get it?), returns to his 'Penelope' (Watling) only to find she's married to Sierra (Eduard Fernandez), an inexplicably wealthy guy (what does he DO to earn all that dough?) who inexplicably keeps crocodiles as pets. When Martina, in great anger, questions Ulises about his absence, he tells her that he'll take her to the island of Sumatra someday and she'll understand EVERYTHING.<br /><br />And here's the thing: he DOESN'T take her to the island of Sumatra. The reference just dies somewhere in the script. He DOESN'T really explain where he was and why he ignored his wife and child for five years. He DOESN'T acquit himself as an honourable guy, and the movie DOESN'T fill in the plot holes that are staring at us for at least half of the film. I can only assume that director Bigas Luna wants us to fill in the story lines with the mystical clues (fish, reptiles, the sea) he offers through breathtaking cinematography and evasive dialogue. It just doesn't work. The narrative 'arc' on this film ends up looking more like a wobbly clothesline.<br /><br />I'm sure Jordi Molla is a good actor, but I just couldn't buy his Ulises as any kind of hero (which is what the original Ulysses was supposed to be). With moist sensuality, he spouts a short stanza of identical poetry from Virgil roughly 2,000 times and each and every time it excites Martina to explosive orgasm. This guy should be rented out to reinvigorate stale marriages. I'm sure Virgil would be impressed. He didn't get laid that often, as I understand it. <br /><br />This poetic 'device' figures prominently in the film, and I had no choice but to assume it was a gender reversal of Ulysses' famous 'siren song' (i.e. beautiful maidens singing seductively to far-off sailors, who were doomed if they answered the, well, siren call). If this is what Bigas Luna is up to, you can see the problem -- he's offering convoluted symbolism in a snatch-and-grab attempt at High Art. Once again, it just doesn't work, at least in my eyes.<br /><br />Watling is a beautiful and magnetic young actor, but she gives us a character here who doesn't seem to have much intellectual or even romantic depth. It's beyond me how she could desperately fall in love with a guy who sports a for-rent sign on his face (as in vacant), oily 1960s-style hair that looks more like seaweed, and one of those trendy 21st-century 'beards' (you know, four days' growth, no more, no less). He's SUPPOSED to be a dreamy kind of guy (I think), but those eyes of his suggest he might be suffering more from overexposure to a preposterous script. <br /><br />But, don't despair, this film is great to look at. Just don't try to connect the dots on the red herrings or think too much about what you're hearing in the way of dialogue. You can do a lost of fast-forwarding on this film (particularly in the first 40 minutes) and you really won't miss much.\"\n",
            "Round-trip:  if youve ever wanted to see a film that [UNK] style over [UNK] this is for you to me son de [UNK] is beautiful to see but theres [UNK] little [UNK] unless [UNK] [UNK] [UNK] love [UNK] turn you on this may be one of those famous [UNK] [UNK] youve heard so much about br br were about [UNK] through this film before anything really happens [UNK] [UNK] [UNK] goes out to [UNK] looking for [UNK] and doesnt come back [UNK] his wife [UNK] [UNK] [UNK] and son to [UNK] for themselves then in a [UNK] [UNK] minutes of screen time they [UNK] [UNK] [UNK] gets [UNK] again and her son [UNK] into [UNK] this [UNK] [UNK] is [UNK] to say the least and very [UNK] after [UNK] minutes of more or less [UNK] around were [UNK] into a [UNK] [UNK] all in [UNK] minutes i think this is called [UNK] [UNK] [UNK] br five years later [UNK] as in the [UNK] [UNK] [UNK] get it [UNK] to his [UNK] [UNK] only to find shes [UNK] to [UNK] [UNK] [UNK] an [UNK] [UNK] guy what does he do to [UNK] all that [UNK] who [UNK] keeps [UNK] as [UNK] when [UNK] in great [UNK] [UNK] [UNK] about his [UNK] he tells her that hell take her to the [UNK] of [UNK] [UNK] and [UNK] understand [UNK] br and [UNK] the thing he doesnt take her to the [UNK] of [UNK] the [UNK] just [UNK] [UNK] in the script he doesnt really [UNK] where he was and why he [UNK] his wife and child for five years he doesnt [UNK] himself as an [UNK] guy and the movie doesnt [UNK] in the plot [UNK] that are [UNK] at us for at least half of the film i can only [UNK] that director [UNK] [UNK] wants us to [UNK] in the story lines with the [UNK] [UNK] [UNK] [UNK] the [UNK] he [UNK] through [UNK] cinematography and [UNK] dialogue it just doesnt work the [UNK] [UNK] on this film ends up looking more like a [UNK] [UNK] br im sure [UNK] [UNK] is a good actor but i just couldnt buy his [UNK] as any kind of hero which is what the original [UNK] was supposed to be with [UNK] [UNK] he [UNK] a short [UNK] of [UNK] [UNK] from [UNK] [UNK] [UNK] times and each and every time it [UNK] [UNK] to [UNK] [UNK] this guy should be [UNK] out to [UNK] [UNK] [UNK] im sure [UNK] would be [UNK] he didnt get [UNK] that often as i understand it br br this [UNK] [UNK] [UNK] [UNK] in the film and i had no [UNK] but to [UNK] it was a [UNK] [UNK] of [UNK] famous [UNK] song [UNK] beautiful [UNK] [UNK] [UNK] to [UNK] [UNK] who were [UNK] if they [UNK] the well [UNK] call if this is what [UNK] [UNK] is up to you can see the problem hes [UNK] [UNK] [UNK] in a [UNK] attempt at high art once again it just doesnt work at least in my [UNK] br [UNK] is a beautiful and [UNK] young actor but she gives us a character here who doesnt seem to have much [UNK] or even romantic [UNK] its beyond me how she could [UNK] fall in love with a guy who [UNK] a [UNK] [UNK] on his face as in [UNK] [UNK] [UNK] [UNK] that looks more like [UNK] and one of those [UNK] [UNK] [UNK] you know four days [UNK] no more no less hes supposed to be a [UNK] kind of guy i think but those eyes of his [UNK] he might be [UNK] more from [UNK] to a [UNK] script br br but dont [UNK] this film is great to look at just dont try to [UNK] the [UNK] on the red [UNK] or think too much about what youre [UNK] in the way of dialogue you can do a lost of [UNK] on this film particularly in the first [UNK] minutes and you really wont miss much\n",
            "\n"
          ]
        }
      ]
    },
    {
      "cell_type": "markdown",
      "source": [
        "**Keterangan :**\n",
        "- Membuat lapisan TextVectorization untuk memproses teks mentah menjadi token.\n",
        "encoder.adapt digunakan untuk menyiapkan kosakata dari dataset pelatihan.\n",
        "- Mengecek kosakata dengan encoder.get_vocabulary(), yang mengurutkan kata berdasarkan frekuensi."
      ],
      "metadata": {
        "id": "HsCmgO2YpK7q"
      }
    },
    {
      "cell_type": "markdown",
      "source": [
        "##**Buat Model**"
      ],
      "metadata": {
        "id": "EhTRCYyvmUvR"
      }
    },
    {
      "cell_type": "markdown",
      "source": [
        "diagram model dapat dilihat pada gambar diatas\n",
        "\n",
        "1. Model ini dapat dibuat sebagai tf.keras.Sequential.\n",
        "\n",
        "2. Lapisan pertama adalah encoder, yang mengubah teks menjadi urutan indeks token.\n",
        "\n",
        "3. Setelah encoder adalah lapisan penyematan (embedding layer). Lapisan penyematan menyimpan satu vektor per kata. Saat dipanggil, ini mengubah rangkaian indeks kata menjadi rangkaian vektor. Vektor-vektor ini dapat dilatih. Setelah pelatihan (dengan data yang cukup), kata-kata dengan arti yang mirip sering kali memiliki vektor yang serupa. Pencarian indeks ini jauh lebih efisien daripada operasi setara dengan meneruskan vektor yang disandikan one-hot melalui lapisan tf.keras.layers.Dense.\n",
        "\n",
        "4. Jaringan saraf berulang (RNN) memproses masukan urutan dengan melakukan iterasi melalui elemen. RNN meneruskan keluaran dari satu langkah waktu ke masukannya pada langkah waktu berikutnya.\n",
        "  - Pembungkus tf.keras.layers.Bidirection juga dapat digunakan dengan lapisan RNN. Ini menyebarkan masukan maju dan mundur melalui lapisan RNN dan kemudian menggabungkan keluaran akhir.\n",
        "  - Keuntungan utama RNN dua arah adalah sinyal dari awal masukan tidak perlu diproses sepanjang waktu untuk memengaruhi keluaran.\n",
        "  - Kerugian utama dari RNN dua arah adalah Anda tidak dapat melakukan streaming prediksi secara efisien saat kata-kata ditambahkan di akhir.\n",
        "\n",
        "5. Setelah RNN mengonversi urutan menjadi satu vektor, kedua lapisan tersebut.Dense melakukan beberapa pemrosesan akhir, dan mengonversi representasi vektor ini menjadi logit tunggal sebagai keluaran klasifikasi.\n",
        "\n",
        "Kode nya adalah sebagai berikut :"
      ],
      "metadata": {
        "id": "3M7IR2rBpexS"
      }
    },
    {
      "cell_type": "code",
      "source": [
        "# Membuat model Sequential\n",
        "model = tf.keras.Sequential([\n",
        "    encoder,\n",
        "    tf.keras.layers.Embedding(\n",
        "        input_dim=len(encoder.get_vocabulary()),\n",
        "        output_dim=64,\n",
        "        mask_zero=True),\n",
        "    tf.keras.layers.Bidirectional(tf.keras.layers.LSTM(64)),\n",
        "    tf.keras.layers.Dense(64, activation='relu'),\n",
        "    tf.keras.layers.Dense(1)\n",
        "])\n"
      ],
      "metadata": {
        "id": "IGTsEZNZptDj"
      },
      "execution_count": null,
      "outputs": []
    },
    {
      "cell_type": "markdown",
      "source": [
        "Harap dicatat bahwa model sekuensial Keras digunakan di sini karena semua lapisan dalam model hanya memiliki masukan tunggal dan menghasilkan keluaran tunggal. Jika Anda ingin menggunakan lapisan RNN stateful, Anda mungkin ingin membangun model Anda dengan API fungsional Keras atau subkelas model sehingga Anda dapat mengambil dan menggunakan kembali status lapisan RNN. Untuk detailnya bisa dilihat pada Keras RNN guide\n",
        "\n",
        "Lapisan penyematan menggunakan masking (uses masking ) untuk menangani panjang urutan yang bervariasi. Semua lapisan setelah penyematan dukungan penyematan"
      ],
      "metadata": {
        "id": "Qq0tilrcpvpR"
      }
    },
    {
      "cell_type": "code",
      "source": [
        "# Cek apakah setiap layer mendukung masking\n",
        "print([layer.supports_masking for layer in model.layers])"
      ],
      "metadata": {
        "colab": {
          "base_uri": "https://localhost:8080/"
        },
        "id": "dxwC5Jxypv4o",
        "outputId": "507b4b27-36c0-408b-90e1-3dba03e20b87"
      },
      "execution_count": null,
      "outputs": [
        {
          "output_type": "stream",
          "name": "stdout",
          "text": [
            "[False, True, True, True, True]\n"
          ]
        }
      ]
    },
    {
      "cell_type": "markdown",
      "source": [
        "Untuk memastikan bahwa ini berfungsi seperti yang diharapkan, evaluasi sebuah kalimat dua kali. Pertama, satu kalimat sehingga tidak ada bantalan (padding) untuk disamarkan:"
      ],
      "metadata": {
        "id": "PSkS36h6p28b"
      }
    },
    {
      "cell_type": "code",
      "source": [
        "# Prediksi pada teks sampel tanpa padding\n",
        "sample_text = ('The movie was cool. The animation and the graphics '\n",
        "               'were out of this world. I would recommend this movie.')\n",
        "encoded_sample = encoder(tf.constant([sample_text]))  # Encode dengan tf.constant"
      ],
      "metadata": {
        "id": "uxewooGop3PR"
      },
      "execution_count": null,
      "outputs": []
    },
    {
      "cell_type": "markdown",
      "source": [
        "Sekarang, evaluasi lagi dalam batch dengan kalimat yang lebih panjang. Hasilnya harus sama:"
      ],
      "metadata": {
        "id": "aSOYXvsD3Tz8"
      }
    },
    {
      "cell_type": "code",
      "source": [
        "# Contoh prediksi dengan padding\n",
        "padding = \"the \" * 2000\n",
        "sample_texts = [sample_text, padding]\n",
        "\n",
        "# Menggunakan tf.constant untuk memastikan kompatibilitas\n",
        "predictions = model.predict(tf.constant(sample_texts))\n",
        "print(predictions[0])\n"
      ],
      "metadata": {
        "colab": {
          "base_uri": "https://localhost:8080/"
        },
        "id": "OsHV6HNS3VxR",
        "outputId": "7de324e0-1f8c-46af-9604-e8aae5a318ff"
      },
      "execution_count": null,
      "outputs": [
        {
          "output_type": "stream",
          "name": "stdout",
          "text": [
            "\u001b[1m1/1\u001b[0m \u001b[32m━━━━━━━━━━━━━━━━━━━━\u001b[0m\u001b[37m\u001b[0m \u001b[1m2s\u001b[0m 2s/step\n",
            "[-0.01885876]\n"
          ]
        }
      ]
    },
    {
      "cell_type": "markdown",
      "source": [
        "compile model Keras untuk mengonfigurasi proses pelatihan:"
      ],
      "metadata": {
        "id": "B-v7jRoq3Xq0"
      }
    },
    {
      "cell_type": "code",
      "source": [
        "model.compile(loss=tf.keras.losses.BinaryCrossentropy(from_logits=True),\n",
        "              optimizer=tf.keras.optimizers.Adam(1e-4),\n",
        "              metrics=['accuracy'])"
      ],
      "metadata": {
        "id": "arXehSxH3an1"
      },
      "execution_count": null,
      "outputs": []
    },
    {
      "cell_type": "markdown",
      "source": [
        "##**Train Model**"
      ],
      "metadata": {
        "id": "-jonSwk3mWj8"
      }
    },
    {
      "cell_type": "code",
      "source": [
        "history = model.fit(train_dataset, epochs=10,\n",
        "                    validation_data=test_dataset,\n",
        "                    validation_steps=30)"
      ],
      "metadata": {
        "colab": {
          "base_uri": "https://localhost:8080/"
        },
        "id": "uTLVQ_d64uPE",
        "outputId": "df8de672-c61d-4042-be5c-eafb61c09c0b"
      },
      "execution_count": null,
      "outputs": [
        {
          "output_type": "stream",
          "name": "stdout",
          "text": [
            "Epoch 1/10\n",
            "\u001b[1m391/391\u001b[0m \u001b[32m━━━━━━━━━━━━━━━━━━━━\u001b[0m\u001b[37m\u001b[0m \u001b[1m718s\u001b[0m 2s/step - accuracy: 0.5179 - loss: 0.6789 - val_accuracy: 0.7542 - val_loss: 0.5016\n",
            "Epoch 2/10\n",
            "\u001b[1m391/391\u001b[0m \u001b[32m━━━━━━━━━━━━━━━━━━━━\u001b[0m\u001b[37m\u001b[0m \u001b[1m727s\u001b[0m 2s/step - accuracy: 0.7990 - loss: 0.4385 - val_accuracy: 0.8464 - val_loss: 0.3371\n",
            "Epoch 3/10\n",
            "\u001b[1m391/391\u001b[0m \u001b[32m━━━━━━━━━━━━━━━━━━━━\u001b[0m\u001b[37m\u001b[0m \u001b[1m712s\u001b[0m 2s/step - accuracy: 0.8446 - loss: 0.3451 - val_accuracy: 0.8667 - val_loss: 0.3159\n",
            "Epoch 4/10\n",
            "\u001b[1m391/391\u001b[0m \u001b[32m━━━━━━━━━━━━━━━━━━━━\u001b[0m\u001b[37m\u001b[0m \u001b[1m698s\u001b[0m 2s/step - accuracy: 0.8561 - loss: 0.3241 - val_accuracy: 0.8552 - val_loss: 0.3434\n",
            "Epoch 5/10\n",
            "\u001b[1m391/391\u001b[0m \u001b[32m━━━━━━━━━━━━━━━━━━━━\u001b[0m\u001b[37m\u001b[0m \u001b[1m745s\u001b[0m 2s/step - accuracy: 0.8591 - loss: 0.3235 - val_accuracy: 0.8552 - val_loss: 0.3208\n",
            "Epoch 6/10\n",
            "\u001b[1m391/391\u001b[0m \u001b[32m━━━━━━━━━━━━━━━━━━━━\u001b[0m\u001b[37m\u001b[0m \u001b[1m752s\u001b[0m 2s/step - accuracy: 0.8622 - loss: 0.3122 - val_accuracy: 0.8516 - val_loss: 0.3291\n",
            "Epoch 7/10\n",
            "\u001b[1m391/391\u001b[0m \u001b[32m━━━━━━━━━━━━━━━━━━━━\u001b[0m\u001b[37m\u001b[0m \u001b[1m737s\u001b[0m 2s/step - accuracy: 0.8654 - loss: 0.3064 - val_accuracy: 0.8646 - val_loss: 0.3208\n",
            "Epoch 8/10\n",
            "\u001b[1m391/391\u001b[0m \u001b[32m━━━━━━━━━━━━━━━━━━━━\u001b[0m\u001b[37m\u001b[0m \u001b[1m735s\u001b[0m 2s/step - accuracy: 0.8676 - loss: 0.3059 - val_accuracy: 0.8578 - val_loss: 0.3093\n",
            "Epoch 9/10\n",
            "\u001b[1m391/391\u001b[0m \u001b[32m━━━━━━━━━━━━━━━━━━━━\u001b[0m\u001b[37m\u001b[0m \u001b[1m749s\u001b[0m 2s/step - accuracy: 0.8698 - loss: 0.3015 - val_accuracy: 0.8635 - val_loss: 0.3117\n",
            "Epoch 10/10\n",
            "\u001b[1m391/391\u001b[0m \u001b[32m━━━━━━━━━━━━━━━━━━━━\u001b[0m\u001b[37m\u001b[0m \u001b[1m747s\u001b[0m 2s/step - accuracy: 0.8739 - loss: 0.2917 - val_accuracy: 0.8604 - val_loss: 0.3193\n"
          ]
        }
      ]
    },
    {
      "cell_type": "code",
      "source": [
        "test_loss, test_acc = model.evaluate(test_dataset)\n",
        "\n",
        "print('Test Loss:', test_loss)\n",
        "print('Test Accuracy:', test_acc)"
      ],
      "metadata": {
        "colab": {
          "base_uri": "https://localhost:8080/"
        },
        "id": "EloROdUC4zEv",
        "outputId": "de9eb4c4-a6ed-43e2-971d-0ab462cc8210"
      },
      "execution_count": null,
      "outputs": [
        {
          "output_type": "stream",
          "name": "stdout",
          "text": [
            "\u001b[1m391/391\u001b[0m \u001b[32m━━━━━━━━━━━━━━━━━━━━\u001b[0m\u001b[37m\u001b[0m \u001b[1m157s\u001b[0m 402ms/step - accuracy: 0.8631 - loss: 0.3176\n",
            "Test Loss: 0.3167342245578766\n",
            "Test Accuracy: 0.8628399968147278\n"
          ]
        }
      ]
    },
    {
      "cell_type": "code",
      "source": [
        "plt.figure(figsize=(16, 8))\n",
        "plt.subplot(1, 2, 1)\n",
        "plot_graphs(history, 'accuracy')\n",
        "plt.ylim(None, 1)\n",
        "plt.subplot(1, 2, 2)\n",
        "plot_graphs(history, 'loss')\n",
        "plt.ylim(0, None)"
      ],
      "metadata": {
        "colab": {
          "base_uri": "https://localhost:8080/",
          "height": 467
        },
        "id": "D7X8UW3W40I7",
        "outputId": "5e102cd2-c9b4-49e5-ee1d-c0496ff5dfc2"
      },
      "execution_count": null,
      "outputs": [
        {
          "output_type": "execute_result",
          "data": {
            "text/plain": [
              "(0.0, 0.6543217301368713)"
            ]
          },
          "metadata": {},
          "execution_count": 17
        },
        {
          "output_type": "display_data",
          "data": {
            "text/plain": [
              "<Figure size 1600x800 with 2 Axes>"
            ],
            "image/png": "[encoded data removed]"
          },
          "metadata": {}
        }
      ]
    },
    {
      "cell_type": "markdown",
      "source": [
        "Jalankan prediksi pada kalimat baru:\n",
        "\n",
        "Jika prediksi >= 0,0 berarti positif, jika tidak maka negatif."
      ],
      "metadata": {
        "id": "sodEXwDO418r"
      }
    },
    {
      "cell_type": "code",
      "source": [
        "sample_text = ('The movie was cool. The animation and the graphics '\n",
        "               'were out of this world. I would recommend this movie.')\n",
        "\n",
        "# Pastikan input berbentuk tensor agar kompatibel dengan model\n",
        "predictions = model.predict(tf.constant([sample_text]))\n",
        "print(predictions[0])"
      ],
      "metadata": {
        "colab": {
          "base_uri": "https://localhost:8080/"
        },
        "id": "bvpau8s443CD",
        "outputId": "9dc69013-7b01-4116-88a7-76e2c7cdc74a"
      },
      "execution_count": null,
      "outputs": [
        {
          "output_type": "stream",
          "name": "stdout",
          "text": [
            "\u001b[1m1/1\u001b[0m \u001b[32m━━━━━━━━━━━━━━━━━━━━\u001b[0m\u001b[37m\u001b[0m \u001b[1m0s\u001b[0m 487ms/step\n",
            "[0.4975122]\n"
          ]
        }
      ]
    },
    {
      "cell_type": "markdown",
      "source": [
        "##**Stack Two or More LSTM Layers**"
      ],
      "metadata": {
        "id": "i3fhBSZ2mfMr"
      }
    },
    {
      "cell_type": "markdown",
      "source": [
        "Lapisan berulang Keras memiliki dua mode yang tersedia yang dikontrol oleh argumen konstruktor return_sequences :\n",
        "\n",
        "- Jika False, ia hanya mengembalikan keluaran terakhir untuk setiap urutan masukan (bentuk tensor 2D (batch_size, output_features)). Ini adalah default yang digunakan pada model sebelumnya.\n",
        "\n",
        "- Jika True, Sequence lengkap output berturut-turut untuk setiap langkah waktu dikembalikan (bentuk tensor 3D (ukuran_batch, langkah waktu, fitur_output)).\n",
        "\n",
        "Hal yang menarik dari penggunaan RNN dengan return_sequences=True adalah outputnya masih memiliki 3 axis, sama seperti inputnya, sehingga bisa diteruskan ke layer RNN lain, seperti ini:"
      ],
      "metadata": {
        "id": "fA7ay5fs46cy"
      }
    },
    {
      "cell_type": "code",
      "source": [
        "model = tf.keras.Sequential([\n",
        "     encoder,\n",
        "     tf.keras.layers.Embedding(len(encoder.get_vocabulary()), 64, mask_zero=True),\n",
        "     tf.keras.layers.Bidirectional(tf.keras.layers.LSTM(64, return_sequences=True)),\n",
        "     tf.keras.layers.Bidirectional(tf.keras.layers.LSTM(32)),\n",
        "     tf.keras.layers.Dense(64, activation='relu'),\n",
        "     tf.keras.layers.Dropout(0.5),\n",
        "     tf.keras.layers.Dense(1)\n",
        "])"
      ],
      "metadata": {
        "id": "RrVxWC9aleBX"
      },
      "execution_count": null,
      "outputs": []
    },
    {
      "cell_type": "code",
      "source": [
        "model.compile(loss=tf.keras.losses.BinaryCrossentropy(from_logits=True),\n",
        "              optimizer=tf.keras.optimizers.Adam(1e-4),\n",
        "              metrics=['accuracy'])"
      ],
      "metadata": {
        "id": "_JYFvrPc5S_v"
      },
      "execution_count": null,
      "outputs": []
    },
    {
      "cell_type": "code",
      "source": [
        "history = model.fit(train_dataset, epochs=10,\n",
        "                    validation_data=test_dataset,\n",
        "                    validation_steps=30)"
      ],
      "metadata": {
        "colab": {
          "base_uri": "https://localhost:8080/"
        },
        "id": "8wbYMBN85WTe",
        "outputId": "c587e485-bc19-4bb4-a87f-7e63ed64e74f"
      },
      "execution_count": null,
      "outputs": [
        {
          "output_type": "stream",
          "name": "stdout",
          "text": [
            "Epoch 1/10\n",
            "\u001b[1m391/391\u001b[0m \u001b[32m━━━━━━━━━━━━━━━━━━━━\u001b[0m\u001b[37m\u001b[0m \u001b[1m1358s\u001b[0m 3s/step - accuracy: 0.5186 - loss: 0.6798 - val_accuracy: 0.7052 - val_loss: 0.5199\n",
            "Epoch 2/10\n",
            "\u001b[1m391/391\u001b[0m \u001b[32m━━━━━━━━━━━━━━━━━━━━\u001b[0m\u001b[37m\u001b[0m \u001b[1m1402s\u001b[0m 3s/step - accuracy: 0.7848 - loss: 0.4552 - val_accuracy: 0.8589 - val_loss: 0.3461\n",
            "Epoch 3/10\n",
            "\u001b[1m391/391\u001b[0m \u001b[32m━━━━━━━━━━━━━━━━━━━━\u001b[0m\u001b[37m\u001b[0m \u001b[1m1408s\u001b[0m 3s/step - accuracy: 0.8501 - loss: 0.3556 - val_accuracy: 0.8594 - val_loss: 0.3264\n",
            "Epoch 4/10\n",
            "\u001b[1m391/391\u001b[0m \u001b[32m━━━━━━━━━━━━━━━━━━━━\u001b[0m\u001b[37m\u001b[0m \u001b[1m1352s\u001b[0m 3s/step - accuracy: 0.8547 - loss: 0.3408 - val_accuracy: 0.8349 - val_loss: 0.3407\n",
            "Epoch 5/10\n",
            "\u001b[1m391/391\u001b[0m \u001b[32m━━━━━━━━━━━━━━━━━━━━\u001b[0m\u001b[37m\u001b[0m \u001b[1m1388s\u001b[0m 3s/step - accuracy: 0.8625 - loss: 0.3213 - val_accuracy: 0.8578 - val_loss: 0.3239\n",
            "Epoch 6/10\n",
            "\u001b[1m391/391\u001b[0m \u001b[32m━━━━━━━━━━━━━━━━━━━━\u001b[0m\u001b[37m\u001b[0m \u001b[1m1383s\u001b[0m 4s/step - accuracy: 0.8640 - loss: 0.3151 - val_accuracy: 0.8068 - val_loss: 0.3643\n",
            "Epoch 7/10\n",
            "\u001b[1m391/391\u001b[0m \u001b[32m━━━━━━━━━━━━━━━━━━━━\u001b[0m\u001b[37m\u001b[0m \u001b[1m1368s\u001b[0m 3s/step - accuracy: 0.8663 - loss: 0.3118 - val_accuracy: 0.8495 - val_loss: 0.3159\n",
            "Epoch 8/10\n",
            "\u001b[1m391/391\u001b[0m \u001b[32m━━━━━━━━━━━━━━━━━━━━\u001b[0m\u001b[37m\u001b[0m \u001b[1m1352s\u001b[0m 3s/step - accuracy: 0.8695 - loss: 0.2998 - val_accuracy: 0.8677 - val_loss: 0.3135\n",
            "Epoch 9/10\n",
            "\u001b[1m391/391\u001b[0m \u001b[32m━━━━━━━━━━━━━━━━━━━━\u001b[0m\u001b[37m\u001b[0m \u001b[1m1400s\u001b[0m 3s/step - accuracy: 0.8687 - loss: 0.3052 - val_accuracy: 0.8672 - val_loss: 0.3208\n",
            "Epoch 10/10\n",
            "\u001b[1m391/391\u001b[0m \u001b[32m━━━━━━━━━━━━━━━━━━━━\u001b[0m\u001b[37m\u001b[0m \u001b[1m1546s\u001b[0m 4s/step - accuracy: 0.8627 - loss: 0.3110 - val_accuracy: 0.8370 - val_loss: 0.3228\n"
          ]
        }
      ]
    },
    {
      "cell_type": "code",
      "source": [
        "test_loss, test_acc = model.evaluate(test_dataset)\n",
        "\n",
        "print('Test Loss:', test_loss)\n",
        "print('Test Accuracy:', test_acc)"
      ],
      "metadata": {
        "id": "7wQDL7KM5asY",
        "colab": {
          "base_uri": "https://localhost:8080/"
        },
        "outputId": "63150b56-28f3-4472-a99b-ec9bc7c1b07f"
      },
      "execution_count": null,
      "outputs": [
        {
          "output_type": "stream",
          "name": "stdout",
          "text": [
            "\u001b[1m391/391\u001b[0m \u001b[32m━━━━━━━━━━━━━━━━━━━━\u001b[0m\u001b[37m\u001b[0m \u001b[1m287s\u001b[0m 736ms/step - accuracy: 0.8435 - loss: 0.3228\n",
            "Test Loss: 0.3228374421596527\n",
            "Test Accuracy: 0.8423200249671936\n"
          ]
        }
      ]
    },
    {
      "cell_type": "code",
      "source": [
        "sample_text = ['The movie was cool. The animation and the graphics ',\n",
        "              'were out of this world. I would recommend this movie.']\n",
        "text_tensor = tf.convert_to_tensor(sample_text)\n",
        "predictions = model.predict(text_tensor)\n",
        "print(predictions)"
      ],
      "metadata": {
        "id": "myTorS7Z5cHu",
        "colab": {
          "base_uri": "https://localhost:8080/"
        },
        "outputId": "5e6b8521-745a-413d-d1be-b4acabc54646"
      },
      "execution_count": null,
      "outputs": [
        {
          "output_type": "stream",
          "name": "stdout",
          "text": [
            "\u001b[1m1/1\u001b[0m \u001b[32m━━━━━━━━━━━━━━━━━━━━\u001b[0m\u001b[37m\u001b[0m \u001b[1m4s\u001b[0m 4s/step\n",
            "[[0.6861654]\n",
            " [0.0235871]]\n"
          ]
        }
      ]
    },
    {
      "cell_type": "code",
      "source": [
        "plt.figure(figsize=(16, 6))\n",
        "plt.subplot(1, 2, 1)\n",
        "plot_graphs(history, 'accuracy')\n",
        "plt.subplot(1, 2, 2)\n",
        "plot_graphs(history, 'loss')"
      ],
      "metadata": {
        "id": "MMSqF16q5dnD",
        "colab": {
          "base_uri": "https://localhost:8080/",
          "height": 351
        },
        "outputId": "66888f12-b848-4ce8-c8b2-0e22540b9cc5"
      },
      "execution_count": null,
      "outputs": [
        {
          "output_type": "display_data",
          "data": {
            "text/plain": [
              "<Figure size 1600x600 with 2 Axes>"
            ],
            "image/png": "[encoded data removed]"
          },
          "metadata": {}
        }
      ]
    },
    {
      "cell_type": "markdown",
      "source": [
        "# **Praktikum 2**"
      ],
      "metadata": {
        "id": "FvtyrPzflaoz"
      }
    },
    {
      "cell_type": "markdown",
      "source": [
        "## **Setup**"
      ],
      "metadata": {
        "id": "bXPk07ul5y3s"
      }
    },
    {
      "cell_type": "markdown",
      "source": [
        "### Import TensorFlow"
      ],
      "metadata": {
        "id": "KGNw5Yxe6QRP"
      }
    },
    {
      "cell_type": "code",
      "source": [
        "import tensorflow as tf\n",
        "import numpy as np\n",
        "import os\n",
        "import time"
      ],
      "metadata": {
        "id": "X4cfS0-A8kE6"
      },
      "execution_count": null,
      "outputs": []
    },
    {
      "cell_type": "markdown",
      "source": [
        "### Download Dataset Shakespeare"
      ],
      "metadata": {
        "id": "_JXCVn1R6Uqn"
      }
    },
    {
      "cell_type": "markdown",
      "source": [
        "Sesuaikan dengan lokasi data yang Anda punya."
      ],
      "metadata": {
        "id": "4Jp1ML9A8mAN"
      }
    },
    {
      "cell_type": "code",
      "source": [
        "path_to_file = tf.keras.utils.get_file('shakespeare.txt', 'https://storage.googleapis.com/download.tensorflow.org/data/shakespeare.txt')"
      ],
      "metadata": {
        "id": "tqIxAs-v8mSa",
        "colab": {
          "base_uri": "https://localhost:8080/"
        },
        "outputId": "8136f084-f581-4476-ab90-8617815c9d68"
      },
      "execution_count": null,
      "outputs": [
        {
          "output_type": "stream",
          "name": "stdout",
          "text": [
            "Downloading data from https://storage.googleapis.com/download.tensorflow.org/data/shakespeare.txt\n",
            "1115394/1115394 [==============================] - 0s 0us/step\n"
          ]
        }
      ]
    },
    {
      "cell_type": "markdown",
      "source": [
        "### Load Data"
      ],
      "metadata": {
        "id": "rd45PSi_6ZDR"
      }
    },
    {
      "cell_type": "code",
      "source": [
        "# Read, then decode for py2 compat.\n",
        "text = open(path_to_file, 'rb').read().decode(encoding='utf-8')\n",
        "# length of text is the number of characters in it\n",
        "print(f'Length of text: {len(text)} characters')"
      ],
      "metadata": {
        "id": "S6k5taih8ucD",
        "colab": {
          "base_uri": "https://localhost:8080/"
        },
        "outputId": "06865f13-9f00-4639-e5bd-bd6d869357be"
      },
      "execution_count": null,
      "outputs": [
        {
          "output_type": "stream",
          "name": "stdout",
          "text": [
            "Length of text: 1115394 characters\n"
          ]
        }
      ]
    },
    {
      "cell_type": "code",
      "source": [
        "# Take a look at the first 250 characters in text\n",
        "print(text[:250])"
      ],
      "metadata": {
        "id": "j4gibY8k8vb0",
        "colab": {
          "base_uri": "https://localhost:8080/"
        },
        "outputId": "cfc23f50-47a3-4bdc-fe83-8491e706728f"
      },
      "execution_count": null,
      "outputs": [
        {
          "output_type": "stream",
          "name": "stdout",
          "text": [
            "First Citizen:\n",
            "Before we proceed any further, hear me speak.\n",
            "\n",
            "All:\n",
            "Speak, speak.\n",
            "\n",
            "First Citizen:\n",
            "You are all resolved rather to die than to famish?\n",
            "\n",
            "All:\n",
            "Resolved. resolved.\n",
            "\n",
            "First Citizen:\n",
            "First, you know Caius Marcius is chief enemy to the people.\n",
            "\n"
          ]
        }
      ]
    },
    {
      "cell_type": "code",
      "source": [
        "# The unique characters in the file\n",
        "vocab = sorted(set(text))\n",
        "print(f'{len(vocab)} unique characters')"
      ],
      "metadata": {
        "id": "YbXucVYN8wVU",
        "colab": {
          "base_uri": "https://localhost:8080/"
        },
        "outputId": "5d94e23d-5050-4dba-d94e-38fd41443a67"
      },
      "execution_count": null,
      "outputs": [
        {
          "output_type": "stream",
          "name": "stdout",
          "text": [
            "65 unique characters\n"
          ]
        }
      ]
    },
    {
      "cell_type": "markdown",
      "source": [
        "## **Olah Teks**"
      ],
      "metadata": {
        "id": "ajHGw7w754z2"
      }
    },
    {
      "cell_type": "markdown",
      "source": [
        "### Vectorize Teks"
      ],
      "metadata": {
        "id": "0QPOTEqF6eWI"
      }
    },
    {
      "cell_type": "markdown",
      "source": [
        "Sebelum training, Anda perlu mengonversi string menjadi representasi numerik. tf.keras.layers.StringLookup dapat mengubah setiap karakter menjadi ID numerik. Caranya adalah teks akan dipecah menjadi token terlebih dahulu."
      ],
      "metadata": {
        "id": "C69npG3U8zFv"
      }
    },
    {
      "cell_type": "code",
      "source": [
        "\n",
        "example_texts = ['abcdefg', 'xyz']\n",
        "chars = tf.strings.unicode_split(example_texts, input_encoding='UTF-8')\n",
        "chars"
      ],
      "metadata": {
        "id": "Oi90FZWx8zgz",
        "colab": {
          "base_uri": "https://localhost:8080/"
        },
        "outputId": "885f7d4a-3f31-4958-d30a-3a6c700f9626"
      },
      "execution_count": null,
      "outputs": [
        {
          "output_type": "execute_result",
          "data": {
            "text/plain": [
              "<tf.RaggedTensor [[b'a', b'b', b'c', b'd', b'e', b'f', b'g'], [b'x', b'y', b'z']]>"
            ]
          },
          "metadata": {},
          "execution_count": 6
        }
      ]
    },
    {
      "cell_type": "markdown",
      "source": [
        "sekarang buat tf.keras.layers.StringLookup layer:"
      ],
      "metadata": {
        "id": "U4JGY9YY86TP"
      }
    },
    {
      "cell_type": "code",
      "source": [
        "ids_from_chars = tf.keras.layers.StringLookup(\n",
        "vocabulary=list(vocab), mask_token=None)"
      ],
      "metadata": {
        "id": "zDMRcGY786p1"
      },
      "execution_count": null,
      "outputs": []
    },
    {
      "cell_type": "markdown",
      "source": [
        "perintah diatas mengconvert token menjadi id"
      ],
      "metadata": {
        "id": "k-4s4elz8_a3"
      }
    },
    {
      "cell_type": "code",
      "source": [
        "ids = ids_from_chars(chars)\n",
        "ids"
      ],
      "metadata": {
        "id": "YjPdR3AD9A9Y",
        "colab": {
          "base_uri": "https://localhost:8080/"
        },
        "outputId": "4d575403-0452-415f-99e3-c004a5657d37"
      },
      "execution_count": null,
      "outputs": [
        {
          "output_type": "execute_result",
          "data": {
            "text/plain": [
              "<tf.RaggedTensor [[40, 41, 42, 43, 44, 45, 46], [63, 64, 65]]>"
            ]
          },
          "metadata": {},
          "execution_count": 8
        }
      ]
    },
    {
      "cell_type": "markdown",
      "source": [
        "Karena tujuan tutorial ini adalah untuk menghasilkan teks, penting juga untuk membalikkan representasi ini. Untuk ini Anda dapat menggunakan kode tf.keras.layers.StringLookup(..., invert=True).\n",
        "\n",
        "Catatan: pada kode ini, daripada meneruskan kosakata asli yang dihasilkan dengan diurutkan(set(teks)) gunakan metode get_vocabulary() dari tf.keras.layers.StringLookup sehingga token [UNK] disetel dengan cara yang sama."
      ],
      "metadata": {
        "id": "io3qR8wV9D1i"
      }
    },
    {
      "cell_type": "code",
      "source": [
        "chars_from_ids = tf.keras.layers.StringLookup(\n",
        "    vocabulary=ids_from_chars.get_vocabulary(), invert=True, mask_token=None)"
      ],
      "metadata": {
        "id": "819QBTHZ9GNx"
      },
      "execution_count": null,
      "outputs": []
    },
    {
      "cell_type": "markdown",
      "source": [
        "Lapisan ini mengconvert kembali karakter dari vektor ID, dan mengembalikannya sebagai karakter tf.RaggedTensor:"
      ],
      "metadata": {
        "id": "M0Me8JFm9HBl"
      }
    },
    {
      "cell_type": "code",
      "source": [
        "chars = chars_from_ids(ids)\n",
        "chars"
      ],
      "metadata": {
        "id": "36mY0V9F9JDy",
        "colab": {
          "base_uri": "https://localhost:8080/"
        },
        "outputId": "e5615ad0-5274-4212-9806-894b113a828c"
      },
      "execution_count": null,
      "outputs": [
        {
          "output_type": "execute_result",
          "data": {
            "text/plain": [
              "<tf.RaggedTensor [[b'a', b'b', b'c', b'd', b'e', b'f', b'g'], [b'x', b'y', b'z']]>"
            ]
          },
          "metadata": {},
          "execution_count": 10
        }
      ]
    },
    {
      "cell_type": "markdown",
      "source": [
        "Anda dapat menggunakan tf.strings.reduce_join untuk menggabungkan kembali karakter menjadi string."
      ],
      "metadata": {
        "id": "SeU1pkFY9LOE"
      }
    },
    {
      "cell_type": "code",
      "source": [
        "tf.strings.reduce_join(chars, axis=-1).numpy()"
      ],
      "metadata": {
        "id": "A0r4Fd_M9Pjw",
        "colab": {
          "base_uri": "https://localhost:8080/"
        },
        "outputId": "2fb50eab-84f0-42f6-d024-7fec3e170a9a"
      },
      "execution_count": null,
      "outputs": [
        {
          "output_type": "execute_result",
          "data": {
            "text/plain": [
              "array([b'abcdefg', b'xyz'], dtype=object)"
            ]
          },
          "metadata": {},
          "execution_count": 11
        }
      ]
    },
    {
      "cell_type": "code",
      "source": [
        "def text_from_ids(ids):\n",
        "    return tf.strings.reduce_join(chars_from_ids(ids), axis=-1)"
      ],
      "metadata": {
        "id": "Ri1rPZsd9Q8r"
      },
      "execution_count": null,
      "outputs": []
    },
    {
      "cell_type": "markdown",
      "source": [
        "### Prediksi"
      ],
      "metadata": {
        "id": "6RCnYzkd6hmC"
      }
    },
    {
      "cell_type": "markdown",
      "source": [
        "Diberikan sebuah karakter, atau serangkaian karakter, karakter apa yang paling mungkin berikutnya? Ini adalah tugas yang harus Anda latih agar model dapat melakukannya. Masukan ke model akan berupa urutan karakter, dan Anda melatih model untuk memprediksi keluaran berupa karakter berikut pada setiap langkah waktu. Karena RNN mempertahankan keadaan internal yang bergantung pada elemen yang terlihat sebelumnya, mengingat semua karakter dihitung hingga saat ini, karakter apa selanjutnya?"
      ],
      "metadata": {
        "id": "cTdr8gNL9Urt"
      }
    },
    {
      "cell_type": "markdown",
      "source": [
        "### Membuat Trainin Set dan Target"
      ],
      "metadata": {
        "id": "rqxOrVYA6iyB"
      }
    },
    {
      "cell_type": "markdown",
      "source": [
        "Selanjutnya bagilah teks menjadi contoh sequence. Setiap masukan sequence akan berisi karakter seq_length dari teks. Untuk setiap masukan sequence, target prediksi berisi teks dengan panjang yang sama, hanya digeser satu karakter ke kanan. Jadi, bagi teks menjadi beberapa bagian seq_length+1. Misalnya, seq_length adalah 4 dan teks kita adalah \"Hello\". Urutan masukannya adalah \"Hell\", dan urutan targetnya adalah \"ello\". Untuk melakukan ini, pertama-tama gunakan fungsi tf.data.Dataset.from_tensor_slices untuk mengonversi vektor teks menjadi aliran indeks karakter."
      ],
      "metadata": {
        "id": "xhZYOiET9Wpm"
      }
    },
    {
      "cell_type": "code",
      "source": [
        "\n",
        "all_ids = ids_from_chars(tf.strings.unicode_split(text, 'UTF-8'))\n",
        "all_ids"
      ],
      "metadata": {
        "id": "o0M_gMH_9W_b",
        "colab": {
          "base_uri": "https://localhost:8080/"
        },
        "outputId": "14fb9b50-c9de-43ff-c517-1ff68090825f"
      },
      "execution_count": null,
      "outputs": [
        {
          "output_type": "execute_result",
          "data": {
            "text/plain": [
              "<tf.Tensor: shape=(1115394,), dtype=int64, numpy=array([19, 48, 57, ..., 46,  9,  1])>"
            ]
          },
          "metadata": {},
          "execution_count": 13
        }
      ]
    },
    {
      "cell_type": "code",
      "source": [
        "ids_dataset = tf.data.Dataset.from_tensor_slices(all_ids)"
      ],
      "metadata": {
        "id": "KB5RijpV9YwO"
      },
      "execution_count": null,
      "outputs": []
    },
    {
      "cell_type": "code",
      "source": [
        "for ids in ids_dataset.take(10):\n",
        "    print(chars_from_ids(ids).numpy().decode('utf-8'))"
      ],
      "metadata": {
        "id": "BkxxD-PQ9aFy",
        "colab": {
          "base_uri": "https://localhost:8080/"
        },
        "outputId": "af3e09fb-bf8c-4e69-b9cb-7fe920c60754"
      },
      "execution_count": null,
      "outputs": [
        {
          "output_type": "stream",
          "name": "stdout",
          "text": [
            "F\n",
            "i\n",
            "r\n",
            "s\n",
            "t\n",
            " \n",
            "C\n",
            "i\n",
            "t\n",
            "i\n"
          ]
        }
      ]
    },
    {
      "cell_type": "code",
      "source": [
        "seq_length = 100"
      ],
      "metadata": {
        "id": "ayIO8bMD9dEz"
      },
      "execution_count": null,
      "outputs": []
    },
    {
      "cell_type": "markdown",
      "source": [
        "Metode batch memungkinkan Anda dengan mudah mengonversi karakter individual ini menjadi urutan ukuran yang diinginkan."
      ],
      "metadata": {
        "id": "8PVGOzey9hcr"
      }
    },
    {
      "cell_type": "code",
      "source": [
        "sequences = ids_dataset.batch(seq_length+1, drop_remainder=True)\n",
        "\n",
        "for seq in sequences.take(1):\n",
        "  print(chars_from_ids(seq))"
      ],
      "metadata": {
        "id": "lVM3VBld9iBS",
        "colab": {
          "base_uri": "https://localhost:8080/"
        },
        "outputId": "aab2c35a-7246-4b45-b8bb-72e5cb175e95"
      },
      "execution_count": null,
      "outputs": [
        {
          "output_type": "stream",
          "name": "stdout",
          "text": [
            "tf.Tensor(\n",
            "[b'F' b'i' b'r' b's' b't' b' ' b'C' b'i' b't' b'i' b'z' b'e' b'n' b':'\n",
            " b'\\n' b'B' b'e' b'f' b'o' b'r' b'e' b' ' b'w' b'e' b' ' b'p' b'r' b'o'\n",
            " b'c' b'e' b'e' b'd' b' ' b'a' b'n' b'y' b' ' b'f' b'u' b'r' b't' b'h'\n",
            " b'e' b'r' b',' b' ' b'h' b'e' b'a' b'r' b' ' b'm' b'e' b' ' b's' b'p'\n",
            " b'e' b'a' b'k' b'.' b'\\n' b'\\n' b'A' b'l' b'l' b':' b'\\n' b'S' b'p' b'e'\n",
            " b'a' b'k' b',' b' ' b's' b'p' b'e' b'a' b'k' b'.' b'\\n' b'\\n' b'F' b'i'\n",
            " b'r' b's' b't' b' ' b'C' b'i' b't' b'i' b'z' b'e' b'n' b':' b'\\n' b'Y'\n",
            " b'o' b'u' b' '], shape=(101,), dtype=string)\n"
          ]
        }
      ]
    },
    {
      "cell_type": "markdown",
      "source": [
        "akan lebih mudah untuk melihat apa yang dilakukan jika Anda menggabungkan token kembali menjadi string:"
      ],
      "metadata": {
        "id": "UvQA5AEa9kL1"
      }
    },
    {
      "cell_type": "code",
      "source": [
        "for seq in sequences.take(5):\n",
        "    print(text_from_ids(seq).numpy())"
      ],
      "metadata": {
        "id": "1k1Clmtw9l1V",
        "colab": {
          "base_uri": "https://localhost:8080/"
        },
        "outputId": "c6451593-f3a1-400e-84e2-fd65675b2a17"
      },
      "execution_count": null,
      "outputs": [
        {
          "output_type": "stream",
          "name": "stdout",
          "text": [
            "b'First Citizen:\\nBefore we proceed any further, hear me speak.\\n\\nAll:\\nSpeak, speak.\\n\\nFirst Citizen:\\nYou '\n",
            "b'are all resolved rather to die than to famish?\\n\\nAll:\\nResolved. resolved.\\n\\nFirst Citizen:\\nFirst, you k'\n",
            "b\"now Caius Marcius is chief enemy to the people.\\n\\nAll:\\nWe know't, we know't.\\n\\nFirst Citizen:\\nLet us ki\"\n",
            "b\"ll him, and we'll have corn at our own price.\\nIs't a verdict?\\n\\nAll:\\nNo more talking on't; let it be d\"\n",
            "b'one: away, away!\\n\\nSecond Citizen:\\nOne word, good citizens.\\n\\nFirst Citizen:\\nWe are accounted poor citi'\n"
          ]
        }
      ]
    },
    {
      "cell_type": "markdown",
      "source": [
        "Untuk pelatihan, Anda memerlukan kumpulan data pasangan (input, label). Dimana input dan label merupakan urutan. Pada setiap langkah waktu, inputnya adalah karakter saat ini dan labelnya adalah karakter berikutnya. Berikut adalah fungsi yang mengambil urutan sebagai masukan, menduplikasi, dan menggesernya untuk menyelaraskan masukan dan label untuk setiap langkah waktu:"
      ],
      "metadata": {
        "id": "M7RQ03FC9oWo"
      }
    },
    {
      "cell_type": "code",
      "source": [
        "def split_input_target(sequence):\n",
        "    input_text = sequence[:-1]\n",
        "    target_text = sequence[1:]\n",
        "    return input_text, target_text"
      ],
      "metadata": {
        "id": "ZSqbU_pG9qgN"
      },
      "execution_count": null,
      "outputs": []
    },
    {
      "cell_type": "code",
      "source": [
        "split_input_target(list(\"Tensorflow\"))"
      ],
      "metadata": {
        "id": "SyAYJqVq9r-w",
        "colab": {
          "base_uri": "https://localhost:8080/"
        },
        "outputId": "3dc86c67-8985-451a-c01f-4c1a2a108394"
      },
      "execution_count": null,
      "outputs": [
        {
          "output_type": "execute_result",
          "data": {
            "text/plain": [
              "(['T', 'e', 'n', 's', 'o', 'r', 'f', 'l', 'o'],\n",
              " ['e', 'n', 's', 'o', 'r', 'f', 'l', 'o', 'w'])"
            ]
          },
          "metadata": {},
          "execution_count": 20
        }
      ]
    },
    {
      "cell_type": "code",
      "source": [
        "dataset = sequences.map(split_input_target)"
      ],
      "metadata": {
        "id": "v7h8pGGQ9tds"
      },
      "execution_count": null,
      "outputs": []
    },
    {
      "cell_type": "code",
      "source": [
        "for input_example, target_example in dataset.take(1):\n",
        "  print(\"Input :\", text_from_ids(input_example).numpy())\n",
        "  print(\"Target:\", text_from_ids(target_example).numpy())"
      ],
      "metadata": {
        "id": "LNJ8Atgd9u2l",
        "colab": {
          "base_uri": "https://localhost:8080/"
        },
        "outputId": "6531d443-8029-4277-d5c9-da0efffee7f7"
      },
      "execution_count": null,
      "outputs": [
        {
          "output_type": "stream",
          "name": "stdout",
          "text": [
            "Input : b'First Citizen:\\nBefore we proceed any further, hear me speak.\\n\\nAll:\\nSpeak, speak.\\n\\nFirst Citizen:\\nYou'\n",
            "Target: b'irst Citizen:\\nBefore we proceed any further, hear me speak.\\n\\nAll:\\nSpeak, speak.\\n\\nFirst Citizen:\\nYou '\n"
          ]
        }
      ]
    },
    {
      "cell_type": "markdown",
      "source": [
        "### Membuat Batch Training"
      ],
      "metadata": {
        "id": "uQfCozm36mNQ"
      }
    },
    {
      "cell_type": "markdown",
      "source": [
        "Anda menggunakan tf.data untuk membagi teks menjadi sequence yang dapat diatur. Namun sebelum memasukkan data ini ke dalam model, Anda perlu mengacak data dan mengemasnya ke dalam batch."
      ],
      "metadata": {
        "id": "2HC6BPlo9xQU"
      }
    },
    {
      "cell_type": "code",
      "source": [
        "# Batch size\n",
        "BATCH_SIZE = 64\n",
        "\n",
        "# Buffer size to shuffle the dataset\n",
        "# (TF data is designed to work with possibly infinite sequences,\n",
        "# so it doesn't attempt to shuffle the entire sequence in memory. Instead,\n",
        "# it maintains a buffer in which it shuffles elements).\n",
        "BUFFER_SIZE = 10000\n",
        "\n",
        "dataset = (\n",
        "    dataset\n",
        "    .shuffle(BUFFER_SIZE)\n",
        "    .batch(BATCH_SIZE, drop_remainder=True)\n",
        "    .prefetch(tf.data.experimental.AUTOTUNE))\n",
        "\n",
        "dataset"
      ],
      "metadata": {
        "id": "4X8MWQiT9zfI",
        "colab": {
          "base_uri": "https://localhost:8080/"
        },
        "outputId": "967f845e-9283-476b-aadc-d42345fab13e"
      },
      "execution_count": null,
      "outputs": [
        {
          "output_type": "execute_result",
          "data": {
            "text/plain": [
              "<_PrefetchDataset element_spec=(TensorSpec(shape=(64, 100), dtype=tf.int64, name=None), TensorSpec(shape=(64, 100), dtype=tf.int64, name=None))>"
            ]
          },
          "metadata": {},
          "execution_count": 23
        }
      ]
    },
    {
      "cell_type": "markdown",
      "source": [
        "## **Buat Model**"
      ],
      "metadata": {
        "id": "hVj5xVYa57YG"
      }
    },
    {
      "cell_type": "markdown",
      "source": [
        "Bagian ini mendefinisikan model sebagai subkelas keras.Model (untuk lebih detilnya, lihat Making new Layers and Models via subclassing).\n",
        "\n",
        "Model yang kita bangun memiliki 3 lapisan neural network :\n",
        "\n",
        "- tf.keras.layers.Embedding: Lapisan masukan. Tabel pencarian yang dapat dilatih yang akan memetakan setiap karakter-ID ke vektor dengan dimensi embedding_dim;\n",
        "\n",
        "- tf.keras.layers.GRU: lapisan RNN dengan ukuran unit=rnn_units (Anda juga dapat menggunakan lapisan LSTM di sini.)\n",
        "\n",
        "- tf.keras.layers.Dense: Lapisan keluaran, dengan keluaran vocab_size. Ini menghasilkan satu logit untuk setiap karakter dalam kosakata. Ini adalah log kemungkinan setiap karakter menurut model."
      ],
      "metadata": {
        "id": "JCIZcGZA94UK"
      }
    },
    {
      "cell_type": "code",
      "source": [
        "# Length of the vocabulary in StringLookup Layer\n",
        "vocab_size = len(ids_from_chars.get_vocabulary())\n",
        "\n",
        "# The embedding dimension\n",
        "embedding_dim = 256\n",
        "\n",
        "# Number of RNN units\n",
        "rnn_units = 1024"
      ],
      "metadata": {
        "id": "CD1a3CHz97b6"
      },
      "execution_count": null,
      "outputs": []
    },
    {
      "cell_type": "code",
      "source": [
        "class MyModel(tf.keras.Model):\n",
        "  def __init__(self, vocab_size, embedding_dim, rnn_units):\n",
        "    super().__init__(self)\n",
        "    self.embedding = tf.keras.layers.Embedding(vocab_size, embedding_dim)\n",
        "    self.gru = tf.keras.layers.GRU(rnn_units,\n",
        "                                   return_sequences=True,\n",
        "                                   return_state=True)\n",
        "    self.dense = tf.keras.layers.Dense(vocab_size)\n",
        "\n",
        "  def call(self, inputs, states=None, return_state=False, training=False):\n",
        "    x = inputs\n",
        "    x = self.embedding(x, training=training)\n",
        "    if states is None:\n",
        "      states = self.gru.get_initial_state(x)\n",
        "    x, states = self.gru(x, initial_state=states, training=training)\n",
        "    x = self.dense(x, training=training)\n",
        "\n",
        "    if return_state:\n",
        "      return x, states\n",
        "    else:\n",
        "      return x"
      ],
      "metadata": {
        "id": "G_6sG9JY98lb"
      },
      "execution_count": null,
      "outputs": []
    },
    {
      "cell_type": "code",
      "source": [
        "model = MyModel(\n",
        "    vocab_size=vocab_size,\n",
        "    embedding_dim=embedding_dim,\n",
        "    rnn_units=rnn_units)"
      ],
      "metadata": {
        "id": "0P_ZZm0-9_gv"
      },
      "execution_count": null,
      "outputs": []
    },
    {
      "cell_type": "markdown",
      "source": [
        "## **Uji Model**"
      ],
      "metadata": {
        "id": "P4BJ37dq5_J2"
      }
    },
    {
      "cell_type": "markdown",
      "source": [
        "Coba jalankan model dan cek apakah sidah sesuai dengan output\n",
        "\n",
        "pertama, cek bentuk dari output"
      ],
      "metadata": {
        "id": "fXPmOl-R-UpF"
      }
    },
    {
      "cell_type": "code",
      "source": [
        "for input_example_batch, target_example_batch in dataset.take(1):\n",
        "    example_batch_predictions = model(input_example_batch)\n",
        "    print(example_batch_predictions.shape, \"# (batch_size, sequence_length, vocab_size)\")"
      ],
      "metadata": {
        "id": "lqGUgAWM-U8p",
        "colab": {
          "base_uri": "https://localhost:8080/"
        },
        "outputId": "77865f6a-637b-461d-9ca4-8fa9e4449af6"
      },
      "execution_count": null,
      "outputs": [
        {
          "output_type": "stream",
          "name": "stdout",
          "text": [
            "(64, 100, 66) # (batch_size, sequence_length, vocab_size)\n"
          ]
        }
      ]
    },
    {
      "cell_type": "markdown",
      "source": [
        "Dalam contoh di atas, panjang urutan masukan adalah 100 tetapi model dapat dijalankan pada masukan dengan panjang berapa pun:"
      ],
      "metadata": {
        "id": "vqdzY37h-W5_"
      }
    },
    {
      "cell_type": "code",
      "source": [
        "model.summary()"
      ],
      "metadata": {
        "id": "Z7_O5Ybi-YFI",
        "colab": {
          "base_uri": "https://localhost:8080/"
        },
        "outputId": "b7b73370-1e66-4e4a-df71-b7f48e8ac051"
      },
      "execution_count": null,
      "outputs": [
        {
          "output_type": "stream",
          "name": "stdout",
          "text": [
            "Model: \"my_model_1\"\n",
            "_________________________________________________________________\n",
            " Layer (type)                Output Shape              Param #   \n",
            "=================================================================\n",
            " embedding_1 (Embedding)     multiple                  16896     \n",
            "                                                                 \n",
            " gru_1 (GRU)                 multiple                  3938304   \n",
            "                                                                 \n",
            " dense_1 (Dense)             multiple                  67650     \n",
            "                                                                 \n",
            "=================================================================\n",
            "Total params: 4022850 (15.35 MB)\n",
            "Trainable params: 4022850 (15.35 MB)\n",
            "Non-trainable params: 0 (0.00 Byte)\n",
            "_________________________________________________________________\n"
          ]
        }
      ]
    },
    {
      "cell_type": "markdown",
      "source": [
        "Untuk mendapatkan prediksi aktual dari model, Anda perlu mengambil sampel dari distribusi keluaran, untuk mendapatkan indeks karakter aktual. Distribusi ini ditentukan oleh logit pada kosakata karakter. Catatan: Penting untuk mengambil sampel dari distribusi ini karena mengambil argmax dari distribusi tersebut dapat dengan mudah membuat model terjebak dalam infinote loop. Cobalah untuk contoh pertama di batch:"
      ],
      "metadata": {
        "id": "bmS9hDip-aLc"
      }
    },
    {
      "cell_type": "code",
      "source": [
        "sampled_indices = tf.random.categorical(example_batch_predictions[0],num_samples=1)\n",
        "sampled_indices = tf.squeeze(sampled_indices, axis=-1).numpy()"
      ],
      "metadata": {
        "id": "FFTTq1Ej-cDg"
      },
      "execution_count": null,
      "outputs": []
    },
    {
      "cell_type": "markdown",
      "source": [
        "Hal ini memberi kita, pada setiap langkah waktu, prediksi indeks karakter berikutnya:"
      ],
      "metadata": {
        "id": "ay6J0MaD-hG2"
      }
    },
    {
      "cell_type": "code",
      "source": [
        "sampled_indices"
      ],
      "metadata": {
        "id": "BckNPyQ4-iG1",
        "colab": {
          "base_uri": "https://localhost:8080/"
        },
        "outputId": "1f396a57-1ccf-4747-ad31-6edf06d1be88"
      },
      "execution_count": null,
      "outputs": [
        {
          "output_type": "execute_result",
          "data": {
            "text/plain": [
              "array([42, 58, 52,  6, 30, 37, 40, 13, 43, 57, 34, 54, 48, 57,  1, 65, 41,\n",
              "       11, 34, 20, 48, 22, 27,  1, 23, 45,  8, 39, 30, 44, 53, 47, 49,  1,\n",
              "       34, 34, 60, 56, 59, 44,  5, 10, 25, 30, 40, 41, 39,  0,  4, 14, 65,\n",
              "       14, 39, 32, 33, 43,  9, 31, 13, 15, 18, 57, 20, 57, 47, 19, 33,  9,\n",
              "       64, 35,  3, 47, 44,  2, 13, 31, 49, 51, 65, 49, 31, 63, 10, 43, 22,\n",
              "       19, 30, 30, 21, 57, 12, 39, 18, 65, 25, 41, 60,  6, 31, 20])"
            ]
          },
          "metadata": {},
          "execution_count": 33
        }
      ]
    },
    {
      "cell_type": "markdown",
      "source": [
        "Dekode kode berikut untuk melihat teks yang diprediksi oleh model tidak terlatih ini:"
      ],
      "metadata": {
        "id": "LfHJ36ga-ipx"
      }
    },
    {
      "cell_type": "code",
      "source": [
        "print(\"Input:\\n\", text_from_ids(input_example_batch[0]).numpy())\n",
        "print()\n",
        "print(\"Next Char Predictions:\\n\", text_from_ids(sampled_indices).numpy())"
      ],
      "metadata": {
        "id": "D3CaJeIV-k4N",
        "colab": {
          "base_uri": "https://localhost:8080/"
        },
        "outputId": "083ad00e-3b9c-4c7f-e7d6-7ce28968c91f"
      },
      "execution_count": null,
      "outputs": [
        {
          "output_type": "stream",
          "name": "stdout",
          "text": [
            "Input:\n",
            " b' a commodity of brown paper and old ginger,\\nninescore and seventeen pounds; of which he made\\nfive ma'\n",
            "\n",
            "Next Char Predictions:\n",
            " b\"csm'QXa?drUoir\\nzb:UGiIN\\nJf-ZQenhj\\nUUuqte&3LQabZ[UNK]$AzAZSTd.R?BErGrhFT.yV!he ?RjlzjRx3dIFQQHr;ZEzLbu'RG\"\n"
          ]
        }
      ]
    },
    {
      "cell_type": "markdown",
      "source": [
        "## **Train Model**"
      ],
      "metadata": {
        "id": "4x1fHIEw6BAh"
      }
    },
    {
      "cell_type": "markdown",
      "source": [
        "Pada titik ini permasalahan dapat dianggap sebagai permasalahan klasifikasi standar. Permasalahan dapat disimpulkan dengan : Berdasarkan status RNN sebelumnya, dan masukan langkah kali ini, prediksi kelas karakter berikutnya."
      ],
      "metadata": {
        "id": "qR3FZs0T-tE-"
      }
    },
    {
      "cell_type": "markdown",
      "source": [
        "### Tambahkan Optimizer dan Fungsi Loss"
      ],
      "metadata": {
        "id": "J5s0cO4v6qzv"
      }
    },
    {
      "cell_type": "markdown",
      "source": [
        "loss function tf.keras.losses.sparse_categorical_crossentropy standar berfungsi dalam kasus ini karena diterapkan di seluruh dimensi terakhir prediksi. Karena model Anda mengembalikan logits, Anda perlu mengatur flag from_logits."
      ],
      "metadata": {
        "id": "IlPr4biP-vGG"
      }
    },
    {
      "cell_type": "code",
      "source": [
        "loss = tf.losses.SparseCategoricalCrossentropy(from_logits=True)"
      ],
      "metadata": {
        "id": "_a-8y3mb-vQD"
      },
      "execution_count": null,
      "outputs": []
    },
    {
      "cell_type": "code",
      "source": [
        "example_batch_mean_loss = loss(target_example_batch, example_batch_predictions)\n",
        "print(\"Prediction shape: \", example_batch_predictions.shape, \" # (batch_size, sequence_length, vocab_size)\")\n",
        "print(\"Mean loss:        \", example_batch_mean_loss)"
      ],
      "metadata": {
        "id": "mbL3a2xA-y7L",
        "colab": {
          "base_uri": "https://localhost:8080/"
        },
        "outputId": "71d76504-8000-4e05-acb1-a3f4e6b3dc8f"
      },
      "execution_count": null,
      "outputs": [
        {
          "output_type": "stream",
          "name": "stdout",
          "text": [
            "Prediction shape:  (64, 100, 66)  # (batch_size, sequence_length, vocab_size)\n",
            "Mean loss:         tf.Tensor(4.1897316, shape=(), dtype=float32)\n"
          ]
        }
      ]
    },
    {
      "cell_type": "markdown",
      "source": [
        "Model yang baru diinisialisasi tidak boleh terlalu yakin dengan dirinya sendiri, semua log keluaran harus memiliki besaran yang sama. Untuk mengonfirmasi hal ini, Anda dapat memeriksa bahwa eksponensial dari loss rata-rata harus kira-kira sama dengan ukuran kosakata. Loss yang jauh lebih tinggi berarti model tersebut yakin akan jawaban yang salah, dan memiliki inisialisasi yang buruk:"
      ],
      "metadata": {
        "id": "dOFF-ikE-6PO"
      }
    },
    {
      "cell_type": "code",
      "source": [
        "tf.exp(example_batch_mean_loss).numpy()"
      ],
      "metadata": {
        "id": "HEoa_4bL-7g4",
        "colab": {
          "base_uri": "https://localhost:8080/"
        },
        "outputId": "fe07830f-7d1e-4855-f394-ecd8a816258f"
      },
      "execution_count": null,
      "outputs": [
        {
          "output_type": "execute_result",
          "data": {
            "text/plain": [
              "66.00507"
            ]
          },
          "metadata": {},
          "execution_count": 37
        }
      ]
    },
    {
      "cell_type": "markdown",
      "source": [
        "Konfigurasikan prosedur pelatihan menggunakan metode tf.keras.Model.compile. Gunakan tf.keras.optimizers.Adam dengan argumen default dan fungsi loss."
      ],
      "metadata": {
        "id": "ew1Fvsed-9fW"
      }
    },
    {
      "cell_type": "code",
      "source": [
        "model.compile(optimizer='adam', loss=loss)"
      ],
      "metadata": {
        "id": "Vm0hhX4A-9yZ"
      },
      "execution_count": null,
      "outputs": []
    },
    {
      "cell_type": "markdown",
      "source": [
        "### Konfigurasi Checkpoints"
      ],
      "metadata": {
        "id": "DcwYEtdU6uIh"
      }
    },
    {
      "cell_type": "markdown",
      "source": [
        "Gunakan tf.keras.callbacks.ModelCheckpoint untuk memastikan bahwa checkpoint disimpan selama pelatihan:"
      ],
      "metadata": {
        "id": "U5b8b4Nh_Ym_"
      }
    },
    {
      "cell_type": "code",
      "source": [
        "import os\n",
        "\n",
        "# Directory where the checkpoints will be saved\n",
        "checkpoint_dir = './training_checkpoints'\n",
        "os.makedirs(checkpoint_dir, exist_ok=True)\n",
        "\n",
        "# Name of the checkpoint files\n",
        "checkpoint_prefix = os.path.join(checkpoint_dir, \"ckpt_{epoch}.weights.h5\")\n",
        "\n",
        "checkpoint_callback = tf.keras.callbacks.ModelCheckpoint(\n",
        "    filepath=checkpoint_prefix,\n",
        "    save_weights_only=True\n",
        ")"
      ],
      "metadata": {
        "id": "hVJUKR_i_Y7T"
      },
      "execution_count": null,
      "outputs": []
    },
    {
      "cell_type": "markdown",
      "source": [
        "### Lakukan Proses Training"
      ],
      "metadata": {
        "id": "wvUQFkk56wtK"
      }
    },
    {
      "cell_type": "markdown",
      "source": [
        "Agar waktu pelatihan tidak terlalu lama, gunakan 10 epoch untuk melatih model. Di Colab, setel runtime ke GPU untuk pelatihan yang lebih cepat."
      ],
      "metadata": {
        "id": "dm1MFEz0_df_"
      }
    },
    {
      "cell_type": "code",
      "source": [
        "EPOCHS = 20"
      ],
      "metadata": {
        "id": "OBwWGWPp_dxd"
      },
      "execution_count": null,
      "outputs": []
    },
    {
      "cell_type": "code",
      "source": [
        "history = model.fit(dataset, epochs=EPOCHS, callbacks=[checkpoint_callback])"
      ],
      "metadata": {
        "id": "nFCV9_tP_iEa",
        "colab": {
          "base_uri": "https://localhost:8080/"
        },
        "outputId": "52a71f19-32d5-4110-fade-075cc9492d07"
      },
      "execution_count": null,
      "outputs": [
        {
          "output_type": "stream",
          "name": "stdout",
          "text": [
            "Epoch 1/20\n",
            "172/172 [==============================] - 134s 762ms/step - loss: 2.6905\n",
            "Epoch 2/20\n",
            "172/172 [==============================] - 131s 758ms/step - loss: 1.9752\n",
            "Epoch 3/20\n",
            "172/172 [==============================] - 135s 781ms/step - loss: 1.6944\n",
            "Epoch 4/20\n",
            "172/172 [==============================] - 134s 772ms/step - loss: 1.5352\n",
            "Epoch 5/20\n",
            "172/172 [==============================] - 128s 740ms/step - loss: 1.4384\n",
            "Epoch 6/20\n",
            "172/172 [==============================] - 129s 746ms/step - loss: 1.3710\n",
            "Epoch 7/20\n",
            "172/172 [==============================] - 127s 729ms/step - loss: 1.3187\n",
            "Epoch 8/20\n",
            "172/172 [==============================] - 132s 761ms/step - loss: 1.2739\n",
            "Epoch 9/20\n",
            "172/172 [==============================] - 133s 765ms/step - loss: 1.2329\n",
            "Epoch 10/20\n",
            "172/172 [==============================] - 133s 766ms/step - loss: 1.1929\n",
            "Epoch 11/20\n",
            "172/172 [==============================] - 127s 733ms/step - loss: 1.1532\n",
            "Epoch 12/20\n",
            "172/172 [==============================] - 131s 754ms/step - loss: 1.1117\n",
            "Epoch 13/20\n",
            "172/172 [==============================] - 134s 773ms/step - loss: 1.0677\n",
            "Epoch 14/20\n",
            "172/172 [==============================] - 130s 749ms/step - loss: 1.0221\n",
            "Epoch 15/20\n",
            "172/172 [==============================] - 133s 765ms/step - loss: 0.9733\n",
            "Epoch 16/20\n",
            "172/172 [==============================] - 131s 753ms/step - loss: 0.9235\n",
            "Epoch 17/20\n",
            "172/172 [==============================] - 129s 746ms/step - loss: 0.8718\n",
            "Epoch 18/20\n",
            "172/172 [==============================] - 132s 759ms/step - loss: 0.8205\n",
            "Epoch 19/20\n",
            "172/172 [==============================] - 126s 726ms/step - loss: 0.7728\n",
            "Epoch 20/20\n",
            "172/172 [==============================] - 127s 731ms/step - loss: 0.7230\n"
          ]
        }
      ]
    },
    {
      "cell_type": "markdown",
      "source": [
        "## **Generate Teks**"
      ],
      "metadata": {
        "id": "uJdwBABW6EHA"
      }
    },
    {
      "cell_type": "markdown",
      "source": [
        "Cara termudah untuk menghasilkan teks dengan model ini adalah dengan menjalankannya dalam loop, dan menyimpan status internal model saat Anda menjalankannya.\n",
        "\n",
        "Setiap kali Anda memanggil model, Anda memasukkan beberapa teks dan state internal. Model mengembalikan prediksi untuk karakter berikutnya dan state barunya. Masukkan kembali prediksi dan state ke model untuk terus menghasilkan teks.\n",
        "\n",
        "Berikut ini membuat prediksi satu langkah:"
      ],
      "metadata": {
        "id": "S_DX_y_4_m2e"
      }
    },
    {
      "cell_type": "code",
      "source": [
        "class OneStep(tf.keras.Model):\n",
        "  def __init__(self, model, chars_from_ids, ids_from_chars, temperature=1.0):\n",
        "    super().__init__()\n",
        "    self.temperature = temperature\n",
        "    self.model = model\n",
        "    self.chars_from_ids = chars_from_ids\n",
        "    self.ids_from_chars = ids_from_chars\n",
        "\n",
        "    # Create a mask to prevent \"[UNK]\" from being generated.\n",
        "    skip_ids = self.ids_from_chars(['[UNK]'])[:, None]\n",
        "    sparse_mask = tf.SparseTensor(\n",
        "        # Put a -inf at each bad index.\n",
        "        values=[-float('inf')]*len(skip_ids),\n",
        "        indices=skip_ids,\n",
        "        # Match the shape to the vocabulary\n",
        "        dense_shape=[len(ids_from_chars.get_vocabulary())])\n",
        "    self.prediction_mask = tf.sparse.to_dense(sparse_mask)\n",
        "\n",
        "  @tf.function\n",
        "  def generate_one_step(self, inputs, states=None):\n",
        "    # Convert strings to token IDs.\n",
        "    input_chars = tf.strings.unicode_split(inputs, 'UTF-8')\n",
        "    input_ids = self.ids_from_chars(input_chars).to_tensor()\n",
        "\n",
        "    # Run the model.\n",
        "    # predicted_logits.shape is [batch, char, next_char_logits]\n",
        "    predicted_logits, states = self.model(inputs=input_ids, states=states,\n",
        "                                          return_state=True)\n",
        "    # Only use the last prediction.\n",
        "    predicted_logits = predicted_logits[:, -1, :]\n",
        "    predicted_logits = predicted_logits/self.temperature\n",
        "    # Apply the prediction mask: prevent \"[UNK]\" from being generated.\n",
        "    predicted_logits = predicted_logits + self.prediction_mask\n",
        "\n",
        "    # Sample the output logits to generate token IDs.\n",
        "    predicted_ids = tf.random.categorical(predicted_logits, num_samples=1)\n",
        "    predicted_ids = tf.squeeze(predicted_ids, axis=-1)\n",
        "\n",
        "    # Convert from token ids to characters\n",
        "    predicted_chars = self.chars_from_ids(predicted_ids)\n",
        "\n",
        "    # Return the characters and model state.\n",
        "    return predicted_chars, states"
      ],
      "metadata": {
        "id": "4_PftyUI_qr1"
      },
      "execution_count": null,
      "outputs": []
    },
    {
      "cell_type": "code",
      "source": [
        "one_step_model = OneStep(model, chars_from_ids, ids_from_chars)"
      ],
      "metadata": {
        "id": "A8HqVBat_tac"
      },
      "execution_count": null,
      "outputs": []
    },
    {
      "cell_type": "markdown",
      "source": [
        "Jalankan secara berulang untuk menghasilkan beberapa teks. Melihat teks yang dihasilkan, Anda akan melihat model mengetahui kapan harus menggunakan huruf besar, membuat paragraf, dan meniru kosakata menulis seperti Shakespeare. Karena sedikitnya jumlah epoch pelatihan, model belum belajar membentuk kalimat runtut."
      ],
      "metadata": {
        "id": "MUm78znz_vBz"
      }
    },
    {
      "cell_type": "code",
      "source": [
        "start = time.time()\n",
        "states = None\n",
        "next_char = tf.constant(['ROMEO:'])\n",
        "result = [next_char]\n",
        "\n",
        "for n in range(1000):\n",
        "  next_char, states = one_step_model.generate_one_step(next_char, states=states)\n",
        "  result.append(next_char)\n",
        "\n",
        "result = tf.strings.join(result)\n",
        "end = time.time()\n",
        "print(result[0].numpy().decode('utf-8'), '\\n\\n' + '_'*80)\n",
        "print('\\nRun time:', end - start)"
      ],
      "metadata": {
        "id": "DWKsXLz8_vWS",
        "colab": {
          "base_uri": "https://localhost:8080/"
        },
        "outputId": "a4c0f336-6b6d-49d2-fdaa-f6cae57e58d8"
      },
      "execution_count": null,
      "outputs": [
        {
          "output_type": "stream",
          "name": "stdout",
          "text": [
            "ROMEO:\n",
            "Out on no, afford shall fell me one of us?\n",
            "\n",
            "Messenger:\n",
            "The coverletw, brief with thee! save him, Juliet,\n",
            "Drawn thy unmet in a gentlinance, turn thy\n",
            "complaints\n",
            "And turn you all home an enemy and\n",
            "Tybaltuful service, write in rogit.\n",
            "But here his devilible is enough,\n",
            "Is made thee as a most virtuous.\n",
            "\n",
            "BAPTISTA:\n",
            "What, nurse, obeying this? mother, he has none\n",
            "Senators of a full kill'd; for thou, accords not princely\n",
            "But ere they were son, so King of York.\n",
            "Well said, my Lord of Dead Waste ground!'\n",
            "Your sunatly with my blushing conjurations,\n",
            "And cere their currer Rutland\n",
            "Not one against the heart.\n",
            "\n",
            "ROMEO:\n",
            "Not what your soul since, I have ended\n",
            "it thou art poor: to shriek my king and him,\n",
            "For it encertainy those that fear,\n",
            "As 'twere I throwledged by with treesbern of the peace.\n",
            "For herd he slip so well, no day, where Sixtnes\n",
            "Become the noble Duke on 't, such a\n",
            "man for meat, give me that thy waych: steal, old York,\n",
            "Fear not thy labour and the white o' the city?\n",
            "Letce feed their voices, nor has t \n",
            "\n",
            "________________________________________________________________________________\n",
            "\n",
            "Run time: 2.826641798019409\n"
          ]
        }
      ]
    },
    {
      "cell_type": "markdown",
      "source": [
        "Hal termudah yang dapat Anda lakukan untuk meningkatkan hasil adalah dengan melatihnya lebih lama (coba EPOCHS = 30). Anda juga dapat bereksperimen dengan string awal yang berbeda, mencoba menambahkan lapisan RNN lain untuk meningkatkan akurasi model, atau menyesuaikan parameter suhu untuk menghasilkan prediksi yang kurang lebih acak.\n",
        "\n",
        "Jika Anda ingin model menghasilkan teks lebih cepat, hal termudah yang dapat Anda lakukan adalah membuat teks secara batch. Pada contoh di bawah, model menghasilkan 5 keluaran dalam waktu yang hampir sama dengan waktu yang dibutuhkan untuk menghasilkan 1 keluaran di atas."
      ],
      "metadata": {
        "id": "TMUUHYar_yvq"
      }
    },
    {
      "cell_type": "code",
      "source": [
        "start = time.time()\n",
        "states = None\n",
        "next_char = tf.constant(['ROMEO:', 'ROMEO:', 'ROMEO:', 'ROMEO:', 'ROMEO:'])\n",
        "result = [next_char]\n",
        "\n",
        "for n in range(1000):\n",
        "  next_char, states = one_step_model.generate_one_step(next_char, states=states)\n",
        "  result.append(next_char)\n",
        "\n",
        "result = tf.strings.join(result)\n",
        "end = time.time()\n",
        "print(result, '\\n\\n' + '_'*80)\n",
        "print('\\nRun time:', end - start)"
      ],
      "metadata": {
        "id": "b8R0kpEj_zE_",
        "colab": {
          "base_uri": "https://localhost:8080/"
        },
        "outputId": "0e0fba48-485c-47c3-c12c-bee852e6bb8a"
      },
      "execution_count": null,
      "outputs": [
        {
          "output_type": "stream",
          "name": "stdout",
          "text": [
            "tf.Tensor(\n",
            "[b\"ROMEO:\\nI shall here is our field: on whom declining vew\\nDrop'ding their hearts. The subjects now\\nBut send the friar too tell them your for usurel;\\nAnd thy soul's person; he not right here dividement\\nAs Anne their winds.'\\n\\nKING RICHARD III:\\nHave you gone, if my wounds are o?\\n\\nISABELLA:\\n\\nSecond Citizen:\\nAnd then we do, sir, for I say yet and no more.\\nAh, here I take her hence to follow me;\\nPatience is rippish'd, say I swear Jupt's\\nSolemn to besiege and till your grace\\nShould come of the sentence, my glorious pursuit.\\n\\nHENRY BOLINGBROKE:\\nTears, good night.\\nI have seen them but we touch'd his fleed\\nMay seem'd with vain. O place, my lord\\nAno holy manner more than a poxkn of the earth.\\n\\nOXFORD:\\nI know her, nurse, to all green cried,\\nAdd neither for my brother breath,\\nAnd not prepared for length. My brother Gloucester,\\nand see our leaves unleep thy deare; and his noble ser;\\nIf the bear by the streets thy brothers brooch\\nBlind it become her cheeks no uncle Richard have,\\nAnd for the fruits of such fr\"\n",
            " b\"ROMEO:\\nIt is enough I may, and you\\nwill fly, my lord. Go 's. I come to thy love, as I do,\\nFor id between in right be ready well.\\n\\nHENRY BOLINGBROKE:\\nRisla, sir, fair head, though she did near the cate\\nAnd happily in our air\\nAnd death, deny to you, friend her weeping eyes\\nIt seems to dine and earl him in our setter'd shore.\\nAs thou let'st attend your honours or come;\\nPlotyer his ghostice, if perceive\\nBe best to Mantua there with your mind to me\\nFor death, for I am satisfied in blood,\\nAnd bear him up to Richard: let her be a\\nmake perpraced me to choose him here.\\n\\nJOHN OF GAUNT:\\nSo, pardon them first: I will see thee;\\nthere was demeanded, it must cut out of sorrow,\\nRichmond unto yourselves, cousin, it is well:\\nShe hath not speak of heat to do the sun being\\ngond, well with human years together,\\nAnd leave your men and wrong.\\n\\nSLY:\\nNow far is in my time.\\n\\nNurse:\\nIs your nighles till, I wonder how he was a mother, in\\nI see she says, thy son should speak again,\\nIn askes he not the lark, we are behel\"\n",
            " b\"ROMEO:\\nThis is slumberlard, strike up and truly before,\\nWould turn you now. What, you must\\nsin?\\n\\nNEONTES:\\nIt shall be thence.\\n\\nSecond Citizen:\\nAy, sir, they breast another; for thou shalt not dreath\\nThis fear is a good feebly voice:\\nThese were his demesise and her roots e'er since\\nAt arty bowers of sliving wither'st fierce?\\nFollow me thy sword, ay.\\n\\nDUCHESS OF YORK:\\nCousin of York, devise will fains, Tale not;\\nWe have lived from fent the rest; therefore dost\\ngood thus; we will better in some holy live.\\nPity he what end am I to death?\\n\\nEDWARD:\\nNow, in good souls were fellow pardon.\\nLove given unpoor so strange nothing,\\nTo get our parasite. Then got yourselves?\\nHere comes the fliers; I speak; to your fierce\\nseats the thing absent to When when our servant direfolding,\\nSometime teem'd like an insinuaty of a pover,\\nAnd not arms with a tear eye.\\n\\nCLARENCE:\\nNot Abrauded quacked with the Capulets.\\n\\nWARWICK:\\nAnd he had hear-waste as a heavy looks;\\nOr, if you regis and Didis, nor his mind,\\nI am and se\"\n",
            " b\"ROMEO:\\nHe hath not so.\\n\\nServant:\\nThey say, sir, that you might have lived a man which how\\nmay win my life; for thou shalt have none of you.\\nThey pray, behold themselves; but I\\nmote you, sir; forsooth? Be must by Lancaster.\\n\\nGLOUCESTER:\\nI must have meaned in precious time,\\nWhen he shall scarl thee how having with you overtake\\nA bite again to thee and like to men's. They say it is;\\nWhen you shall have five brother or flatterer\\nAgainst the Duke of Norfolk, Thurthay\\nThey had so deep in legs! rushes smoothing himself\\nUpon thy scent: be nicely gazed:\\nBut let he did spoke love and knee:\\nSo many simes cousing with her temperance;\\nBut let him speak company.\\n\\nISABELLA:\\nThere is no more.\\n\\nCORIOLANUS:\\nWe will charm, we came not\\nTo pay that sens our subjects' one,\\nAnd then we shall came to the fair orn mouths, I say;\\nAmends to'en pluck a gloving father:\\nBy her conscience, sir, we cannot do thither.\\n\\nBUCKINGHAM:\\nWell, let as foolish done, my jest of you.\\n\\nRoman:\\nAnd I; 'tis bastard good and night: have yo\"\n",
            " b\"ROMEO:\\nThere wantents is!\\n\\nGLOUCESTER:\\nAnd then, for Your wouldst be relection\\nin sportical, and unnatural seen.\\n\\nWARWICK:\\nYes, cousin of Buckingbant and France compassion\\nWept sound for fear.\\n\\nFirst Servant:\\nWell, forbur Warwick will still be shrouded it.\\n\\nGRUMIO:\\nFie, fie! the truth he will shame you.\\n\\nCORIOLANUS:\\nMy grandam till now,\\nWe'll newn your woes shall serve it. I am so, and, in reversion\\nAm his good beasts thereof too dull.\\nVake nothing learn to look not buck.\\n\\nQUEEN MARGARET:\\nBut not a foin to show thee to thy guest;\\nHermisheel at enviey.\\n\\nFirst Servingman:\\nStrangs, to the mambled to the grace and hold,\\nAnd seven from fasting, wife, all see a sole born.\\nThe worthy fellow was a mother; ne'er their subjects' roaring sorrow shows\\nOf death to come, we know your worship, I say,\\nAs bring with treasons of the town;\\nFor your lord's delights, or heaven kined ever.\\n\\nBENVOLIO:\\nI know ye' she meet me, be you slay me.\\n\\nLEONTES:\\nNay, badd!\\nWhose souls farewell. I purposs by,\\nWith all the shap\"], shape=(5,), dtype=string) \n",
            "\n",
            "________________________________________________________________________________\n",
            "\n",
            "Run time: 2.517176389694214\n"
          ]
        }
      ]
    },
    {
      "cell_type": "markdown",
      "source": [
        "## **Ekspor Model Generator**"
      ],
      "metadata": {
        "id": "4ZTsy9o76GE3"
      }
    },
    {
      "cell_type": "markdown",
      "source": [
        "Model satu langkah ini dapat dengan mudah disimpan dan digunakan kembali, memungkinkan Anda menggunakannya di mana pun tf.saved_model diterima.\n"
      ],
      "metadata": {
        "id": "BC4MZvQG_6J1"
      }
    },
    {
      "cell_type": "code",
      "source": [
        "tf.saved_model.save(one_step_model, 'one_step')\n",
        "one_step_reloaded = tf.saved_model.load('one_step')"
      ],
      "metadata": {
        "id": "fZN2uClZ_6iM",
        "colab": {
          "base_uri": "https://localhost:8080/"
        },
        "outputId": "b5292461-f8fa-4921-b3fc-d1a67928e64f"
      },
      "execution_count": null,
      "outputs": [
        {
          "output_type": "stream",
          "name": "stderr",
          "text": [
            "WARNING:tensorflow:Skipping full serialization of Keras layer <__main__.OneStep object at 0x789b684e4460>, because it is not built.\n",
            "WARNING:tensorflow:Model's `__init__()` arguments contain non-serializable objects. Please implement a `get_config()` method in the subclassed Model for proper saving and loading. Defaulting to empty config.\n",
            "WARNING:tensorflow:Model's `__init__()` arguments contain non-serializable objects. Please implement a `get_config()` method in the subclassed Model for proper saving and loading. Defaulting to empty config.\n"
          ]
        }
      ]
    },
    {
      "cell_type": "code",
      "source": [
        "states = None\n",
        "next_char = tf.constant(['ROMEO:'])\n",
        "result = [next_char]\n",
        "\n",
        "for n in range(100):\n",
        "  next_char, states = one_step_reloaded.generate_one_step(next_char, states=states)\n",
        "  result.append(next_char)\n",
        "\n",
        "print(tf.strings.join(result)[0].numpy().decode(\"utf-8\"))"
      ],
      "metadata": {
        "id": "FWHSJGGt_9VZ",
        "colab": {
          "base_uri": "https://localhost:8080/"
        },
        "outputId": "8259071c-b4ec-4434-e469-2f4926d236d6"
      },
      "execution_count": null,
      "outputs": [
        {
          "output_type": "stream",
          "name": "stdout",
          "text": [
            "ROMEO:\n",
            "Where then she speaks you three o' the rept.\n",
            "If that be nug,'--which was done fell.\n",
            "\n",
            "BIANCA:\n",
            "He can\n"
          ]
        }
      ]
    },
    {
      "cell_type": "markdown",
      "source": [
        "# **Tugas**"
      ],
      "metadata": {
        "id": "GA8GRfpplbjQ"
      }
    },
    {
      "cell_type": "markdown",
      "source": [
        "Prosedur pelatihan pada praktikum 2 merupakan prosedur sederhana, yang tidak memberi Anda banyak kendali. Model ini menggunakan \"teacher-forcing\" yang mencegah prediksi buruk diumpankan kembali ke model, sehingga model tidak pernah belajar untuk pulih dari kesalahan. Jadi, setelah Anda melihat cara menjalankan model secara manual, selanjutnya Anda akan mengimplementasikan custom loop pelatihan. Hal ini memberikan titik awal jika, misalnya, Anda ingin menerapkan pembelajaran kurikulum untuk membantu menstabilkan keluaran open-loop model. Bagian terpenting dari loop pelatihan khusus adalah fungsi langkah pelatihan.\n",
        "\n",
        "Gunakan tf.GradientTape untuk men track nilai gradient. Anda dapat mempelajari lebih lanjut tentang pendekatan ini dengan membaca eager execution guide.\n",
        "\n",
        "Prosedurnya adalah :\n",
        "\n",
        "1. Jalankan Model dan hitung loss dengan tf.GradientTape.\n",
        "\n",
        "2. Hitung update dan terapkan pada model dengan optimizer"
      ],
      "metadata": {
        "id": "Tjep9DqDw9rr"
      }
    },
    {
      "cell_type": "markdown",
      "source": [
        "**Jawab :**"
      ],
      "metadata": {
        "id": "nH7daAcqgp2Y"
      }
    },
    {
      "cell_type": "code",
      "source": [
        "import tensorflow as tf\n",
        "import numpy as np\n",
        "import os\n",
        "import time"
      ],
      "metadata": {
        "id": "aBpfJSqJgsrZ"
      },
      "execution_count": null,
      "outputs": []
    },
    {
      "cell_type": "code",
      "source": [
        "path_to_file = tf.keras.utils.get_file('shakespeare.txt', 'https://storage.googleapis.com/download.tensorflow.org/data/shakespeare.txt')"
      ],
      "metadata": {
        "id": "IvTObPrugvXq"
      },
      "execution_count": null,
      "outputs": []
    },
    {
      "cell_type": "code",
      "source": [
        "# Read, then decode for py2 compat.\n",
        "text = open(path_to_file, 'rb').read().decode(encoding='utf-8')\n",
        "# length of text is the number of characters in it\n",
        "print(f'Length of text: {len(text)} characters')"
      ],
      "metadata": {
        "colab": {
          "base_uri": "https://localhost:8080/"
        },
        "id": "yh-64jUThcYK",
        "outputId": "7b68e3df-eb02-42a2-9995-9a35ab54e101"
      },
      "execution_count": null,
      "outputs": [
        {
          "output_type": "stream",
          "name": "stdout",
          "text": [
            "Length of text: 1115394 characters\n"
          ]
        }
      ]
    },
    {
      "cell_type": "code",
      "source": [
        "print(text[:250])"
      ],
      "metadata": {
        "colab": {
          "base_uri": "https://localhost:8080/"
        },
        "id": "pQ9q8wl6hfwU",
        "outputId": "bc030b84-f7b9-400a-df6b-91b1d7b7aa30"
      },
      "execution_count": null,
      "outputs": [
        {
          "output_type": "stream",
          "name": "stdout",
          "text": [
            "First Citizen:\n",
            "Before we proceed any further, hear me speak.\n",
            "\n",
            "All:\n",
            "Speak, speak.\n",
            "\n",
            "First Citizen:\n",
            "You are all resolved rather to die than to famish?\n",
            "\n",
            "All:\n",
            "Resolved. resolved.\n",
            "\n",
            "First Citizen:\n",
            "First, you know Caius Marcius is chief enemy to the people.\n",
            "\n"
          ]
        }
      ]
    },
    {
      "cell_type": "code",
      "source": [
        "vocab = sorted(set(text))\n",
        "print(f'{len(vocab)} unique characters')"
      ],
      "metadata": {
        "colab": {
          "base_uri": "https://localhost:8080/"
        },
        "id": "AjfHYJUWhm_C",
        "outputId": "3e36065b-677f-4af4-c34b-e0c1e0cc2793"
      },
      "execution_count": null,
      "outputs": [
        {
          "output_type": "stream",
          "name": "stdout",
          "text": [
            "65 unique characters\n"
          ]
        }
      ]
    },
    {
      "cell_type": "code",
      "source": [
        "for char in vocab:\n",
        "    print(char, end=' ')"
      ],
      "metadata": {
        "colab": {
          "base_uri": "https://localhost:8080/"
        },
        "id": "rtRwGzC3hrse",
        "outputId": "ee30671b-f06a-4400-c220-f9a388476a98"
      },
      "execution_count": null,
      "outputs": [
        {
          "output_type": "stream",
          "name": "stdout",
          "text": [
            "\n",
            "   ! $ & ' , - . 3 : ; ? A B C D E F G H I J K L M N O P Q R S T U V W X Y Z a b c d e f g h i j k l m n o p q r s t u v w x y z "
          ]
        }
      ]
    },
    {
      "cell_type": "markdown",
      "source": [
        "**olah Teks**\n",
        "\n",
        "Vectorize Teks\n",
        "\n",
        "Sebelum training, Anda perlu mengonversi string menjadi representasi numerik. tf.keras.layers.StringLookup dapat mengubah setiap karakter menjadi ID numerik. Caranya adalah teks akan dipecah menjadi token terlebih dahulu."
      ],
      "metadata": {
        "id": "dZQ7b8m5hwHH"
      }
    },
    {
      "cell_type": "code",
      "source": [
        "example_texts = ['abcdefg', 'xyz']\n",
        "chars = tf.strings.unicode_split(example_texts, input_encoding='UTF-8')\n",
        "chars"
      ],
      "metadata": {
        "colab": {
          "base_uri": "https://localhost:8080/"
        },
        "id": "K2bjjxPkhy2x",
        "outputId": "a9ea902a-26d0-4015-d87f-845e5a473441"
      },
      "execution_count": null,
      "outputs": [
        {
          "output_type": "execute_result",
          "data": {
            "text/plain": [
              "<tf.RaggedTensor [[b'a', b'b', b'c', b'd', b'e', b'f', b'g'], [b'x', b'y', b'z']]>"
            ]
          },
          "metadata": {},
          "execution_count": 54
        }
      ]
    },
    {
      "cell_type": "code",
      "source": [
        "#  buat tf.keras.layers.StringLookup layer:\n",
        "\n",
        "ids_from_chars = tf.keras.layers.StringLookup(vocabulary=list(vocab), mask_token=None)"
      ],
      "metadata": {
        "id": "dtyi5Fseh3UN"
      },
      "execution_count": null,
      "outputs": []
    },
    {
      "cell_type": "code",
      "source": [
        "ids = ids_from_chars(chars)\n",
        "ids"
      ],
      "metadata": {
        "colab": {
          "base_uri": "https://localhost:8080/"
        },
        "id": "fK3Bk5Moh43a",
        "outputId": "ea7ebcbd-f482-4396-def0-237abd1e97e9"
      },
      "execution_count": null,
      "outputs": [
        {
          "output_type": "execute_result",
          "data": {
            "text/plain": [
              "<tf.RaggedTensor [[40, 41, 42, 43, 44, 45, 46], [63, 64, 65]]>"
            ]
          },
          "metadata": {},
          "execution_count": 56
        }
      ]
    },
    {
      "cell_type": "code",
      "source": [
        "chars_from_ids = tf.keras.layers.StringLookup(\n",
        "    vocabulary=ids_from_chars.get_vocabulary(), invert=True, mask_token=None)"
      ],
      "metadata": {
        "id": "rPALfXgvh6qT"
      },
      "execution_count": null,
      "outputs": []
    },
    {
      "cell_type": "code",
      "source": [
        "chars = chars_from_ids(ids)\n",
        "chars"
      ],
      "metadata": {
        "colab": {
          "base_uri": "https://localhost:8080/"
        },
        "id": "lCwEBZHLh8QO",
        "outputId": "5d7aa2f4-4216-4f85-904c-3d5a2f9eea65"
      },
      "execution_count": null,
      "outputs": [
        {
          "output_type": "execute_result",
          "data": {
            "text/plain": [
              "<tf.RaggedTensor [[b'a', b'b', b'c', b'd', b'e', b'f', b'g'], [b'x', b'y', b'z']]>"
            ]
          },
          "metadata": {},
          "execution_count": 58
        }
      ]
    },
    {
      "cell_type": "code",
      "source": [
        "tf.strings.reduce_join(chars, axis=-1).numpy()"
      ],
      "metadata": {
        "colab": {
          "base_uri": "https://localhost:8080/"
        },
        "id": "It-EVU53h9kZ",
        "outputId": "6255fa03-40ba-4cd4-f2e1-982b7b9ea795"
      },
      "execution_count": null,
      "outputs": [
        {
          "output_type": "execute_result",
          "data": {
            "text/plain": [
              "array([b'abcdefg', b'xyz'], dtype=object)"
            ]
          },
          "metadata": {},
          "execution_count": 59
        }
      ]
    },
    {
      "cell_type": "code",
      "source": [
        "def text_from_ids(ids):\n",
        "    return tf.strings.reduce_join(chars_from_ids(ids), axis=-1)"
      ],
      "metadata": {
        "id": "SsdVQ3DCh-6L"
      },
      "execution_count": null,
      "outputs": []
    },
    {
      "cell_type": "markdown",
      "source": [
        "**Prediksi**\n",
        "\n",
        "Membuat Training Set dan Target"
      ],
      "metadata": {
        "id": "p0oDrxI2iEMC"
      }
    },
    {
      "cell_type": "code",
      "source": [
        "all_ids = ids_from_chars(tf.strings.unicode_split(text, 'UTF-8'))\n",
        "all_ids"
      ],
      "metadata": {
        "colab": {
          "base_uri": "https://localhost:8080/"
        },
        "id": "hwYAC-rhiCrl",
        "outputId": "a2e06eb6-b4e8-4474-f13c-eac0c85b3121"
      },
      "execution_count": null,
      "outputs": [
        {
          "output_type": "execute_result",
          "data": {
            "text/plain": [
              "<tf.Tensor: shape=(1115394,), dtype=int64, numpy=array([19, 48, 57, ..., 46,  9,  1])>"
            ]
          },
          "metadata": {},
          "execution_count": 61
        }
      ]
    },
    {
      "cell_type": "code",
      "source": [
        "ids_dataset = tf.data.Dataset.from_tensor_slices(all_ids)"
      ],
      "metadata": {
        "id": "lWhxDfsXiHgR"
      },
      "execution_count": null,
      "outputs": []
    },
    {
      "cell_type": "code",
      "source": [
        "for ids in ids_dataset.take(10):\n",
        "    print(chars_from_ids(ids).numpy().decode('utf-8'))"
      ],
      "metadata": {
        "colab": {
          "base_uri": "https://localhost:8080/"
        },
        "id": "-IJJhxK6iRKE",
        "outputId": "fc561c7f-b269-43eb-91e0-140b4d007438"
      },
      "execution_count": null,
      "outputs": [
        {
          "output_type": "stream",
          "name": "stdout",
          "text": [
            "F\n",
            "i\n",
            "r\n",
            "s\n",
            "t\n",
            " \n",
            "C\n",
            "i\n",
            "t\n",
            "i\n"
          ]
        }
      ]
    },
    {
      "cell_type": "code",
      "source": [
        "seq_length = 100\n",
        "#batch memungkinkan kita dengan mudah mengonversi karakter individual ini menjadi urutan ukuran yang diinginkan."
      ],
      "metadata": {
        "id": "_PbGnNxoiNlm"
      },
      "execution_count": null,
      "outputs": []
    },
    {
      "cell_type": "code",
      "source": [
        "sequences = ids_dataset.batch(seq_length+1, drop_remainder=True)\n",
        "\n",
        "for seq in sequences.take(1):\n",
        "  print(chars_from_ids(seq))"
      ],
      "metadata": {
        "colab": {
          "base_uri": "https://localhost:8080/"
        },
        "id": "25mjtgjpiXoi",
        "outputId": "e4a29f29-2a2c-4bc7-dda5-1a8c3fdcc01b"
      },
      "execution_count": null,
      "outputs": [
        {
          "output_type": "stream",
          "name": "stdout",
          "text": [
            "tf.Tensor(\n",
            "[b'F' b'i' b'r' b's' b't' b' ' b'C' b'i' b't' b'i' b'z' b'e' b'n' b':'\n",
            " b'\\n' b'B' b'e' b'f' b'o' b'r' b'e' b' ' b'w' b'e' b' ' b'p' b'r' b'o'\n",
            " b'c' b'e' b'e' b'd' b' ' b'a' b'n' b'y' b' ' b'f' b'u' b'r' b't' b'h'\n",
            " b'e' b'r' b',' b' ' b'h' b'e' b'a' b'r' b' ' b'm' b'e' b' ' b's' b'p'\n",
            " b'e' b'a' b'k' b'.' b'\\n' b'\\n' b'A' b'l' b'l' b':' b'\\n' b'S' b'p' b'e'\n",
            " b'a' b'k' b',' b' ' b's' b'p' b'e' b'a' b'k' b'.' b'\\n' b'\\n' b'F' b'i'\n",
            " b'r' b's' b't' b' ' b'C' b'i' b't' b'i' b'z' b'e' b'n' b':' b'\\n' b'Y'\n",
            " b'o' b'u' b' '], shape=(101,), dtype=string)\n"
          ]
        }
      ]
    },
    {
      "cell_type": "code",
      "source": [
        "for seq in sequences.take(5):\n",
        "    print(text_from_ids(seq).numpy())"
      ],
      "metadata": {
        "colab": {
          "base_uri": "https://localhost:8080/"
        },
        "id": "yj2iU2mYiZst",
        "outputId": "40a11dbd-7bde-486a-8523-562fd14214cb"
      },
      "execution_count": null,
      "outputs": [
        {
          "output_type": "stream",
          "name": "stdout",
          "text": [
            "b'First Citizen:\\nBefore we proceed any further, hear me speak.\\n\\nAll:\\nSpeak, speak.\\n\\nFirst Citizen:\\nYou '\n",
            "b'are all resolved rather to die than to famish?\\n\\nAll:\\nResolved. resolved.\\n\\nFirst Citizen:\\nFirst, you k'\n",
            "b\"now Caius Marcius is chief enemy to the people.\\n\\nAll:\\nWe know't, we know't.\\n\\nFirst Citizen:\\nLet us ki\"\n",
            "b\"ll him, and we'll have corn at our own price.\\nIs't a verdict?\\n\\nAll:\\nNo more talking on't; let it be d\"\n",
            "b'one: away, away!\\n\\nSecond Citizen:\\nOne word, good citizens.\\n\\nFirst Citizen:\\nWe are accounted poor citi'\n"
          ]
        }
      ]
    },
    {
      "cell_type": "code",
      "source": [
        "def split_input_target(sequence):\n",
        "  input_text = sequence[:-1]\n",
        "  target_text = sequence[1:]\n",
        "  return input_text, target_text"
      ],
      "metadata": {
        "id": "No0Q4z0hibKm"
      },
      "execution_count": null,
      "outputs": []
    },
    {
      "cell_type": "code",
      "source": [
        "split_input_target(list(\"Tensorflow\"))"
      ],
      "metadata": {
        "colab": {
          "base_uri": "https://localhost:8080/"
        },
        "id": "luMfAMw8idJR",
        "outputId": "a004fee9-8263-48ab-ccf8-719e32201d45"
      },
      "execution_count": null,
      "outputs": [
        {
          "output_type": "execute_result",
          "data": {
            "text/plain": [
              "(['T', 'e', 'n', 's', 'o', 'r', 'f', 'l', 'o'],\n",
              " ['e', 'n', 's', 'o', 'r', 'f', 'l', 'o', 'w'])"
            ]
          },
          "metadata": {},
          "execution_count": 68
        }
      ]
    },
    {
      "cell_type": "code",
      "source": [
        "dataset = sequences.map(split_input_target)"
      ],
      "metadata": {
        "id": "K2ZT1WruieV7"
      },
      "execution_count": null,
      "outputs": []
    },
    {
      "cell_type": "code",
      "source": [
        "for input_example, target_example in dataset.take(1):\n",
        "  print(\"Input :\", text_from_ids(input_example).numpy())\n",
        "  print(\"Target:\", text_from_ids(target_example).numpy())"
      ],
      "metadata": {
        "colab": {
          "base_uri": "https://localhost:8080/"
        },
        "id": "LwVCU7z0igFJ",
        "outputId": "99f307ec-f210-4e30-f84a-afd5d49937f9"
      },
      "execution_count": null,
      "outputs": [
        {
          "output_type": "stream",
          "name": "stdout",
          "text": [
            "Input : b'First Citizen:\\nBefore we proceed any further, hear me speak.\\n\\nAll:\\nSpeak, speak.\\n\\nFirst Citizen:\\nYou'\n",
            "Target: b'irst Citizen:\\nBefore we proceed any further, hear me speak.\\n\\nAll:\\nSpeak, speak.\\n\\nFirst Citizen:\\nYou '\n"
          ]
        }
      ]
    },
    {
      "cell_type": "markdown",
      "source": [
        "**Membuat Batch Training**"
      ],
      "metadata": {
        "id": "pPLY77JMiiKv"
      }
    },
    {
      "cell_type": "code",
      "source": [
        "# Batch size\n",
        "BATCH_SIZE = 64\n",
        "\n",
        "# Buffer size to shuffle the dataset\n",
        "# (TF data is designed to work with possibly infinite sequences,\n",
        "# so it doesn't attempt to shuffle the entire sequence in memory. Instead,\n",
        "# it maintains a buffer in which it shuffles elements).\n",
        "BUFFER_SIZE = 10000\n",
        "\n",
        "dataset = (\n",
        "    dataset\n",
        "    .shuffle(BUFFER_SIZE)\n",
        "    .batch(BATCH_SIZE, drop_remainder=True)\n",
        "    .prefetch(tf.data.experimental.AUTOTUNE))\n",
        "\n",
        "dataset"
      ],
      "metadata": {
        "colab": {
          "base_uri": "https://localhost:8080/"
        },
        "id": "lI7kcoPEijnX",
        "outputId": "9a85557b-4788-4fcc-ea9f-0ee737ed4a42"
      },
      "execution_count": null,
      "outputs": [
        {
          "output_type": "execute_result",
          "data": {
            "text/plain": [
              "<_PrefetchDataset element_spec=(TensorSpec(shape=(64, 100), dtype=tf.int64, name=None), TensorSpec(shape=(64, 100), dtype=tf.int64, name=None))>"
            ]
          },
          "metadata": {},
          "execution_count": 71
        }
      ]
    },
    {
      "cell_type": "code",
      "source": [
        "# Length of the vocabulary in StringLookup Layer\n",
        "vocab_size = len(ids_from_chars.get_vocabulary())\n",
        "\n",
        "# The embedding dimension\n",
        "embedding_dim = 256\n",
        "\n",
        "# Number of RNN units\n",
        "rnn_units = 1024"
      ],
      "metadata": {
        "id": "5EvWJ8bTilRs"
      },
      "execution_count": null,
      "outputs": []
    },
    {
      "cell_type": "code",
      "source": [
        "class MyModel(tf.keras.Model):\n",
        "  def __init__(self, vocab_size, embedding_dim, rnn_units):\n",
        "    super().__init__(self)\n",
        "    self.embedding = tf.keras.layers.Embedding(vocab_size, embedding_dim)\n",
        "    self.gru = tf.keras.layers.GRU(rnn_units,\n",
        "                                   return_sequences=True,\n",
        "                                   return_state=True)\n",
        "    self.dense = tf.keras.layers.Dense(vocab_size)\n",
        "\n",
        "  def call(self, inputs, states=None, return_state=False, training=False):\n",
        "    x = inputs\n",
        "    x = self.embedding(x, training=training)\n",
        "    if states is None:\n",
        "      states = self.gru.get_initial_state(x)\n",
        "    x, states = self.gru(x, initial_state=states, training=training)\n",
        "    x = self.dense(x, training=training)\n",
        "\n",
        "    if return_state:\n",
        "      return x, states\n",
        "    else:\n",
        "      return x"
      ],
      "metadata": {
        "id": "sM5bWqQeinHf"
      },
      "execution_count": null,
      "outputs": []
    },
    {
      "cell_type": "code",
      "source": [
        "model = MyModel(\n",
        "    vocab_size=vocab_size,\n",
        "    embedding_dim=embedding_dim,\n",
        "    rnn_units=rnn_units)"
      ],
      "metadata": {
        "id": "GvV_CmKNio-Z"
      },
      "execution_count": null,
      "outputs": []
    },
    {
      "cell_type": "markdown",
      "source": [
        "**Uji Model**"
      ],
      "metadata": {
        "id": "8kCn71ETisZD"
      }
    },
    {
      "cell_type": "code",
      "source": [
        "for input_example_batch, target_example_batch in dataset.take(1):\n",
        "    example_batch_predictions = model(input_example_batch)\n",
        "    print(example_batch_predictions.shape, \"# (batch_size, sequence_length, vocab_size)\")"
      ],
      "metadata": {
        "colab": {
          "base_uri": "https://localhost:8080/"
        },
        "id": "vkGfxYhKiqgT",
        "outputId": "6e8f6a0f-54aa-4d45-fd64-ff7ac7faeb03"
      },
      "execution_count": null,
      "outputs": [
        {
          "output_type": "stream",
          "name": "stdout",
          "text": [
            "(64, 100, 66) # (batch_size, sequence_length, vocab_size)\n"
          ]
        }
      ]
    },
    {
      "cell_type": "code",
      "source": [
        "model.summary()"
      ],
      "metadata": {
        "colab": {
          "base_uri": "https://localhost:8080/"
        },
        "id": "w9v2xGcaixlb",
        "outputId": "9d7826cc-09a4-498f-d63f-60c46f1c3e79"
      },
      "execution_count": null,
      "outputs": [
        {
          "output_type": "stream",
          "name": "stdout",
          "text": [
            "Model: \"my_model_2\"\n",
            "_________________________________________________________________\n",
            " Layer (type)                Output Shape              Param #   \n",
            "=================================================================\n",
            " embedding_2 (Embedding)     multiple                  16896     \n",
            "                                                                 \n",
            " gru_2 (GRU)                 multiple                  3938304   \n",
            "                                                                 \n",
            " dense_2 (Dense)             multiple                  67650     \n",
            "                                                                 \n",
            "=================================================================\n",
            "Total params: 4022850 (15.35 MB)\n",
            "Trainable params: 4022850 (15.35 MB)\n",
            "Non-trainable params: 0 (0.00 Byte)\n",
            "_________________________________________________________________\n"
          ]
        }
      ]
    },
    {
      "cell_type": "code",
      "source": [
        "sampled_indices = tf.random.categorical(example_batch_predictions[0],num_samples=1)\n",
        "sampled_indices = tf.squeeze(sampled_indices, axis=-1).numpy()"
      ],
      "metadata": {
        "id": "00BG75_-izbX"
      },
      "execution_count": null,
      "outputs": []
    },
    {
      "cell_type": "code",
      "source": [
        "sampled_indices"
      ],
      "metadata": {
        "colab": {
          "base_uri": "https://localhost:8080/"
        },
        "id": "wRq8vuDnizpQ",
        "outputId": "b3986f96-7465-4583-d710-d7dc4a3b0b54"
      },
      "execution_count": null,
      "outputs": [
        {
          "output_type": "execute_result",
          "data": {
            "text/plain": [
              "array([32, 33, 23, 18, 42,  8, 51, 42, 43, 29, 35, 55, 22, 10,  8, 29, 60,\n",
              "       12, 31, 28, 49, 47, 65, 41, 49,  5,  0, 18, 18, 58, 51, 54,  0, 30,\n",
              "       20, 33, 41,  9, 31, 39, 29, 29, 17, 59, 25, 33, 30, 25, 21, 39, 48,\n",
              "       24, 51,  9, 10,  2, 65, 16, 16, 36,  8, 33,  0, 56, 64,  5, 21, 65,\n",
              "       46, 63,  2, 53, 53, 26, 37, 19, 33, 15, 62, 52, 24, 60, 12,  5, 34,\n",
              "       25, 30, 49, 29, 60,  3, 52,  5, 36, 12, 63, 36, 20, 27, 12])"
            ]
          },
          "metadata": {},
          "execution_count": 78
        }
      ]
    },
    {
      "cell_type": "code",
      "source": [
        "print(\"Input:\\n\", text_from_ids(input_example_batch[0]).numpy())\n",
        "print()\n",
        "print(\"Next Char Predictions:\\n\", text_from_ids(sampled_indices).numpy())"
      ],
      "metadata": {
        "colab": {
          "base_uri": "https://localhost:8080/"
        },
        "id": "6IuQPcqri3Oi",
        "outputId": "47716d26-d98a-41bc-ebc1-5adffa357618"
      },
      "execution_count": null,
      "outputs": [
        {
          "output_type": "stream",
          "name": "stdout",
          "text": [
            "Input:\n",
            " b'r pupils presently.\\nHolla, within!\\nSirrah, lead these gentlemen\\nTo my daughters; and tell them both,'\n",
            "\n",
            "Next Char Predictions:\n",
            " b'STJEc-lcdPVpI3-Pu;ROjhzbj&[UNK]EEslo[UNK]QGTb.RZPPDtLTQLHZiKl.3 zCCW-T[UNK]qy&Hzgx nnMXFTBwmKu;&ULQjPu!m&W;xWGN;'\n"
          ]
        }
      ]
    },
    {
      "cell_type": "markdown",
      "source": [
        "**Train Model**"
      ],
      "metadata": {
        "id": "VyePFUhti5Ou"
      }
    },
    {
      "cell_type": "code",
      "source": [
        "loss = tf.losses.SparseCategoricalCrossentropy(from_logits=True)"
      ],
      "metadata": {
        "id": "5ARsSlOui34E"
      },
      "execution_count": null,
      "outputs": []
    },
    {
      "cell_type": "code",
      "source": [
        "example_batch_mean_loss = loss(target_example_batch, example_batch_predictions)\n",
        "print(\"Prediction shape: \", example_batch_predictions.shape, \" # (batch_size, sequence_length, vocab_size)\")\n",
        "print(\"Mean loss:        \", example_batch_mean_loss)"
      ],
      "metadata": {
        "colab": {
          "base_uri": "https://localhost:8080/"
        },
        "id": "QapNPBGXi9GI",
        "outputId": "a70e7e3e-06fd-47c0-cbb5-f9690522a9ef"
      },
      "execution_count": null,
      "outputs": [
        {
          "output_type": "stream",
          "name": "stdout",
          "text": [
            "Prediction shape:  (64, 100, 66)  # (batch_size, sequence_length, vocab_size)\n",
            "Mean loss:         tf.Tensor(4.1900253, shape=(), dtype=float32)\n"
          ]
        }
      ]
    },
    {
      "cell_type": "code",
      "source": [
        "tf.exp(example_batch_mean_loss).numpy()"
      ],
      "metadata": {
        "colab": {
          "base_uri": "https://localhost:8080/"
        },
        "id": "dNmpHxQNi_Lk",
        "outputId": "63855e41-8dd3-49c9-d38e-40abdb2e04a5"
      },
      "execution_count": null,
      "outputs": [
        {
          "output_type": "execute_result",
          "data": {
            "text/plain": [
              "66.02446"
            ]
          },
          "metadata": {},
          "execution_count": 82
        }
      ]
    },
    {
      "cell_type": "code",
      "source": [
        "model.compile(optimizer='adam', loss=loss)"
      ],
      "metadata": {
        "id": "oVqaw3ItjBfV"
      },
      "execution_count": null,
      "outputs": []
    },
    {
      "cell_type": "code",
      "source": [
        "# Directory where the checkpoints will be saved\n",
        "checkpoint_dir = './training_checkpoints'\n",
        "# Name of the checkpoint files\n",
        "checkpoint_prefix = os.path.join(checkpoint_dir, \"ckpt_{epoch}\")\n",
        "\n",
        "checkpoint_callback = tf.keras.callbacks.ModelCheckpoint(\n",
        "    filepath=checkpoint_prefix,\n",
        "    save_weights_only=True)"
      ],
      "metadata": {
        "id": "PRlaZxl6jGDB"
      },
      "execution_count": null,
      "outputs": []
    },
    {
      "cell_type": "code",
      "source": [
        "EPOCHS = 10\n",
        "history = model.fit(dataset, epochs=EPOCHS, callbacks=[checkpoint_callback])"
      ],
      "metadata": {
        "colab": {
          "base_uri": "https://localhost:8080/"
        },
        "id": "EqaoiA9SjIBH",
        "outputId": "60e94fef-bbc5-487b-e77e-c921cc095818"
      },
      "execution_count": null,
      "outputs": [
        {
          "output_type": "stream",
          "name": "stdout",
          "text": [
            "Epoch 1/10\n",
            "172/172 [==============================] - 130s 743ms/step - loss: 2.7394\n",
            "Epoch 2/10\n",
            "172/172 [==============================] - 132s 764ms/step - loss: 1.9923\n",
            "Epoch 3/10\n",
            "172/172 [==============================] - 128s 737ms/step - loss: 1.7205\n",
            "Epoch 4/10\n",
            "172/172 [==============================] - 127s 733ms/step - loss: 1.5611\n",
            "Epoch 5/10\n",
            "172/172 [==============================] - 127s 733ms/step - loss: 1.4611\n",
            "Epoch 6/10\n",
            "172/172 [==============================] - 127s 733ms/step - loss: 1.3920\n",
            "Epoch 7/10\n",
            "172/172 [==============================] - 130s 750ms/step - loss: 1.3390\n",
            "Epoch 8/10\n",
            "172/172 [==============================] - 131s 754ms/step - loss: 1.2940\n",
            "Epoch 9/10\n",
            "172/172 [==============================] - 127s 730ms/step - loss: 1.2538\n",
            "Epoch 10/10\n",
            "172/172 [==============================] - 132s 760ms/step - loss: 1.2143\n"
          ]
        }
      ]
    },
    {
      "cell_type": "code",
      "source": [
        "class OneStep(tf.keras.Model):\n",
        "  def __init__(self, model, chars_from_ids, ids_from_chars, temperature=1.0):\n",
        "    super().__init__()\n",
        "    self.temperature = temperature\n",
        "    self.model = model\n",
        "    self.chars_from_ids = chars_from_ids\n",
        "    self.ids_from_chars = ids_from_chars\n",
        "\n",
        "    # Create a mask to prevent \"[UNK]\" from being generated.\n",
        "    skip_ids = self.ids_from_chars(['[UNK]'])[:, None]\n",
        "    sparse_mask = tf.SparseTensor(\n",
        "        # Put a -inf at each bad index.\n",
        "        values=[-float('inf')]*len(skip_ids),\n",
        "        indices=skip_ids,\n",
        "        # Match the shape to the vocabulary\n",
        "        dense_shape=[len(ids_from_chars.get_vocabulary())])\n",
        "    self.prediction_mask = tf.sparse.to_dense(sparse_mask)\n",
        "\n",
        "  @tf.function\n",
        "  def generate_one_step(self, inputs, states=None):\n",
        "    # Convert strings to token IDs.\n",
        "    input_chars = tf.strings.unicode_split(inputs, 'UTF-8')\n",
        "    input_ids = self.ids_from_chars(input_chars).to_tensor()\n",
        "\n",
        "    # Run the model.\n",
        "    # predicted_logits.shape is [batch, char, next_char_logits]\n",
        "    predicted_logits, states = self.model(inputs=input_ids, states=states,\n",
        "                                          return_state=True)\n",
        "    # Only use the last prediction.\n",
        "    predicted_logits = predicted_logits[:, -1, :]\n",
        "    predicted_logits = predicted_logits/self.temperature\n",
        "    # Apply the prediction mask: prevent \"[UNK]\" from being generated.\n",
        "    predicted_logits = predicted_logits + self.prediction_mask\n",
        "\n",
        "    # Sample the output logits to generate token IDs.\n",
        "    predicted_ids = tf.random.categorical(predicted_logits, num_samples=1)\n",
        "    predicted_ids = tf.squeeze(predicted_ids, axis=-1)\n",
        "\n",
        "    # Convert from token ids to characters\n",
        "    predicted_chars = self.chars_from_ids(predicted_ids)\n",
        "\n",
        "    # Return the characters and model state.\n",
        "    return predicted_chars, states"
      ],
      "metadata": {
        "id": "oEF42-C-jLPF"
      },
      "execution_count": null,
      "outputs": []
    },
    {
      "cell_type": "code",
      "source": [
        "one_step_model = OneStep(model, chars_from_ids, ids_from_chars)"
      ],
      "metadata": {
        "id": "j-yFGvGUjLi5"
      },
      "execution_count": null,
      "outputs": []
    },
    {
      "cell_type": "code",
      "source": [
        "start = time.time()\n",
        "states = None\n",
        "next_char = tf.constant(['ROMEO:'])\n",
        "result = [next_char]\n",
        "\n",
        "for n in range(1000):\n",
        "  next_char, states = one_step_model.generate_one_step(next_char, states=states)\n",
        "  result.append(next_char)\n",
        "\n",
        "result = tf.strings.join(result)\n",
        "end = time.time()\n",
        "print(result[0].numpy().decode('utf-8'), '\\n\\n' + '_'*80)\n",
        "print('\\nRun time:', end - start)"
      ],
      "metadata": {
        "colab": {
          "base_uri": "https://localhost:8080/"
        },
        "id": "-8dbWlOOjNTM",
        "outputId": "5141a119-3231-40a7-cec3-0f06660db06a"
      },
      "execution_count": null,
      "outputs": [
        {
          "output_type": "stream",
          "name": "stdout",
          "text": [
            "ROMEO:\n",
            "My suddest water, darging noble ordare!\n",
            "Sin that I heard him more should friends;\n",
            "The nardon feed is none in late be the\n",
            "thrin down, looking occasion for a prefer\n",
            "Will untrue my peril of a man with me to the\n",
            "Which our hours is three land and eyest\n",
            "Than fly to saint. O, if I promised,\n",
            "I would not in the rinator Lost this knightly more\n",
            "Than we are sudden ouphation here shall\n",
            "Stone hearts come to know our tale. I promised ere\n",
            "Be patient and the remain as deed,\n",
            "follow living for a smility-citizens.\n",
            "\n",
            "Provost:\n",
            "Wouldst thou kill the rest wear behind to your love.\n",
            "\n",
            "KATHARINA:\n",
            "I know his tongue, and mocky bounts unto revise.\n",
            "The dake of English fore-blood paying go\n",
            "Why our counsels by, sir; what wit may banish\n",
            "in them, nay, but so fire absent him; for I were soil\n",
            "The end o' the light and gold be gone to thy woman's!\n",
            "He is no round in queen and law, and rebell'd\n",
            "By height on bodied gloss, would show my mindhems,\n",
            "With plame men, away! O, sir, the prince: all toes pronounce the sin.\n",
            "\n",
            "NORTHUMBERLA \n",
            "\n",
            "________________________________________________________________________________\n",
            "\n",
            "Run time: 2.7896997928619385\n"
          ]
        }
      ]
    },
    {
      "cell_type": "code",
      "source": [
        "start = time.time()\n",
        "states = None\n",
        "next_char = tf.constant(['ROMEO:', 'ROMEO:', 'ROMEO:', 'ROMEO:', 'ROMEO:'])\n",
        "result = [next_char]\n",
        "\n",
        "for n in range(1000):\n",
        "  next_char, states = one_step_model.generate_one_step(next_char, states=states)\n",
        "  result.append(next_char)\n",
        "\n",
        "result = tf.strings.join(result)\n",
        "end = time.time()\n",
        "print(result, '\\n\\n' + '_'*80)\n",
        "print('\\nRun time:', end - start)"
      ],
      "metadata": {
        "colab": {
          "base_uri": "https://localhost:8080/"
        },
        "id": "fLPpqKlpjPBK",
        "outputId": "0e14b6f0-faf5-48b1-d63b-881a9461185a"
      },
      "execution_count": null,
      "outputs": [
        {
          "output_type": "stream",
          "name": "stdout",
          "text": [
            "tf.Tensor(\n",
            "[b\"ROMEO:\\nRomeo, grandam, the like a this man's birth,\\nWhich right wears, and eyms and eyes\\nor words men and help him to come so high as mistress mount,\\nBut we resolved thee in my brother's foot.\\n\\nPayar:\\nMy lord, I do; say, you mean to leave\\nEdward for us and be thither: on our peers,\\nAnd she ends she should tell the world's grievy,\\nTakes reputy now to poor wilt that ore\\nAll mourners 'shall.' Richard; come to you.\\n\\nAUTOLYCUS:\\nGood me laugh to this.\\n\\nCOMINIUS:\\nWell thou the little, three-shall be fourteen.\\nMy Lord Nor he would blown sweet carban:\\nAn he hath ready and let no more that Claudio\\nTwill this be brought for it on me;\\nAnd I action both you, 'tis this.\\n\\nQUEEN ELIZABETH:\\nBrother out? we'll sweat to your eleves! hath absent husbining steals. Accern to kills us Sun wo?\\nThis is your friend enough to be gone,\\nWhich expess old brown of them but ready, and\\nSaf shall I make; while we stwalling raised in love,\\nEnvious me to spain and pate: Paulina law,\\nAs thought o' my ripence, march again\\nTy cli\"\n",
            " b\"ROMEO:\\nHe hath, is an irmilation, and blood a piece verisabrime hath no greatest.\\n\\nTRANIO:\\nLet me leave peace, fie!\\nThe people were he alone enemies\\nWill seem to expure her both proper law,\\nAnd tell let me give us Lucentio;\\nFor Lour is to devil, and were so, now for\\nThe Christion of the deed will be brought!\\nFor I he beauted, sweet sire: I thank\\nThe mirdies that I and From Inlenge again.\\n\\nDUKE VINCENTIO:\\nLet me hear gain your offince will I hump her\\nMy life open violent force: but when thou art me\\nWhen That must require to your mother;\\nBut weeps fly. Come, sir; and. I will fold\\nThe words and bring me to the abed.\\n\\nKATHARINA:\\nWith our noble Roman,\\nThou car must neg-light in this action:\\n'Tis come to Hore undern hooding pleasure.\\nThou knees and in thou canst lets but a mine, she looks so\\nthan the lips; where's no better than thou art,\\nLike times in his birth. But keep the grieves hedute sofestimes!\\nSay thAn I'st thou very wond of speech,\\nAll times of sheep-herd, whose friends, led us so it, if\"\n",
            " b\"ROMEO:\\nIt is sean--\\n\\nELBOW:\\nHere he that rither this is he that means to your daughter\\nThan that slanders by armour in the issue.\\n\\nSICINIUS:\\n'Tis honest grung!\\n\\nApeconal.\\nNone!\\n\\nMENENIUS:\\nHe was beful men aliey.\\n\\nKATHARINA:\\nEven something! he were the tears he hath a sleepy while: there blood\\nOf such ail to set or fone reach; why seen well but for you\\nNo purchase to accept demand, and obshoutacts you\\nTo got the moner, it will, my mind-pain'd\\nWhy then command, thereto this peace,\\nAnd let me have it so, or give us before thy life,\\nbey lenstainness, presseen namest\\nwived to A sounded flight, and you wedled\\nUndors the Capitol, spare him die.\\n\\nRICHMOND:\\nWhre'd thou shalt be madue? Where he on thy england\\nslain? no, my desperate gentlemany's\\nweets and trumpe: though it mistress.\\n\\nSTAMELO:\\nI know'll to this in herds sent to London,\\nLove give what he recused other Roman shall this haze\\nA festerous to the beneficer, do not enough;\\nEven he is so any. Your please,\\nDoad is, I, tell lemains distrugging s\"\n",
            " b\"ROMEO:\\nFor what news well, I would have him short at one than you\\nBoan their envounden pinish'd than they sour made\\nTo say to strike. 'Tis was'!\\n\\nDUKE VINCENTIO:\\nLook, louder; these needs hand how it begn.\\nBut deserve to rejoich a tale the whole and things spoke?\\n\\nJOHN OF GAUNT:\\nO, pity is young and yet we entire to\\nmake her hope all the Earl of thy\\nTongue of service waitors: it would make his death,\\nAnd ill-bear evident proyate him by fleck.\\nBe thou and which your bibs she, boy,' but answer.\\nThe loke of Lancaster was the wind were towards--\\nAs furnish'd their spirity: which is\\nUndone that live in love! O mindly,-like that makes me boy?\\n\\nThird Citizen:\\nYea, you good morrow. Wherefore, bring not the wite course,\\nIf thou attend the morth fled withers.\\n\\nWARWICK:\\nVernative your some or power, in quiet withal!\\nAll show in the dark before in a sigh.\\n\\nHASTINGS:\\nHe mathels, and woman in person hear;\\nWhat, this service, mine and brown forswoplest hait.\\n\\nARDION:\\nThe letters is entreather'd, that all h\"\n",
            " b\"ROMEO:\\nMy son, I sought you, for all should be greater daughter.\\n\\nThird Servingman:\\nPardon alack! there for the terror for a quick,\\nI'll make each bride against his, as they miscourters,\\nTheir pupil ban depart'd slip, and getter past all denight:\\nConfession is your spring's pine;\\nAnd there, by my mother, which which our sid\\nis with ourself to this pedinting,\\nLike me the time of hersell\\nOf my sware-borled, I would pray\\nTo sweet mail'st profant speeds: and am straight:\\nThe mother's loving child Leaning, thou wilt remove.\\n\\nBAPTISTA:\\nWhat says, the great Warwick, thou art times grave, done with,\\nAnd with the wind so long hazed innocent as this witlester,\\nWhose feather lives pleased on, for him, by the wench?\\nO, you shall not persubed, any clind the moon,\\nThat look on fined from my shew and meable:\\nYet like the cloud easil's from her than in degree\\nAnd she is head, what say your brother\\nTo this true news; that sent before him\\nThen does perish'd lord,\\nCommit me the law so brook so royal sweet:--\\nI\"], shape=(5,), dtype=string) \n",
            "\n",
            "________________________________________________________________________________\n",
            "\n",
            "Run time: 2.946275234222412\n"
          ]
        }
      ]
    },
    {
      "cell_type": "code",
      "source": [
        "tf.saved_model.save(one_step_model, 'one_step')\n",
        "one_step_reloaded = tf.saved_model.load('one_step')"
      ],
      "metadata": {
        "colab": {
          "base_uri": "https://localhost:8080/"
        },
        "id": "hAa-LIHJjanD",
        "outputId": "d42c2803-c46b-420a-a94b-cd70049d154c"
      },
      "execution_count": null,
      "outputs": [
        {
          "output_type": "stream",
          "name": "stderr",
          "text": [
            "WARNING:tensorflow:Skipping full serialization of Keras layer <__main__.OneStep object at 0x789b446f3d90>, because it is not built.\n",
            "WARNING:tensorflow:Model's `__init__()` arguments contain non-serializable objects. Please implement a `get_config()` method in the subclassed Model for proper saving and loading. Defaulting to empty config.\n",
            "WARNING:tensorflow:Model's `__init__()` arguments contain non-serializable objects. Please implement a `get_config()` method in the subclassed Model for proper saving and loading. Defaulting to empty config.\n"
          ]
        }
      ]
    },
    {
      "cell_type": "code",
      "source": [
        "states = None\n",
        "next_char = tf.constant(['ROMEO:'])\n",
        "result = [next_char]\n",
        "\n",
        "for n in range(100):\n",
        "  next_char, states = one_step_reloaded.generate_one_step(next_char, states=states)\n",
        "  result.append(next_char)\n",
        "\n",
        "print(tf.strings.join(result)[0].numpy().decode(\"utf-8\"))"
      ],
      "metadata": {
        "colab": {
          "base_uri": "https://localhost:8080/"
        },
        "id": "RE9tkJJmjcMJ",
        "outputId": "148622e2-2f24-4a12-dd3a-b246245fc870"
      },
      "execution_count": null,
      "outputs": [
        {
          "output_type": "stream",
          "name": "stdout",
          "text": [
            "ROMEO:\n",
            "Would I do condit, and knows with him.\n",
            "\n",
            "MENENIUS:\n",
            "Being altogether in the poes\n",
            "guessporn'd by death\n"
          ]
        }
      ]
    },
    {
      "cell_type": "markdown",
      "source": [
        "\n",
        "\n",
        "---\n",
        "\n",
        "\n",
        "**Tugas**"
      ],
      "metadata": {
        "id": "rxLsGLfNjh5C"
      }
    },
    {
      "cell_type": "code",
      "source": [
        "class CustomTraining(MyModel):\n",
        "  @tf.function\n",
        "  def train_step(self, inputs):\n",
        "    inputs, labels = inputs\n",
        "    with tf.GradientTape() as tape:\n",
        "      predictions = self(inputs, training=True)\n",
        "      loss = self.loss(labels, predictions)\n",
        "      grads = tape.gradient(loss, model.trainable_variables)\n",
        "      self.optimizer.apply_gradients(zip(grads, model.trainable_variables))\n",
        "\n",
        "      return {'loss': loss}"
      ],
      "metadata": {
        "id": "hsn7Ni2gjnkN"
      },
      "execution_count": null,
      "outputs": []
    },
    {
      "cell_type": "code",
      "source": [
        "model = CustomTraining(\n",
        "    vocab_size=len(ids_from_chars.get_vocabulary()),\n",
        "    embedding_dim=embedding_dim,\n",
        "    rnn_units=rnn_units)"
      ],
      "metadata": {
        "id": "5s4Vfm9Pjqlq"
      },
      "execution_count": null,
      "outputs": []
    },
    {
      "cell_type": "code",
      "source": [
        "model.compile(optimizer = tf.keras.optimizers.Adam(), loss=tf.keras.losses.SparseCategoricalCrossentropy(from_logits=True))"
      ],
      "metadata": {
        "id": "2e5ieyxQjtAX"
      },
      "execution_count": null,
      "outputs": []
    },
    {
      "cell_type": "code",
      "source": [
        "model.fit(dataset, epochs=1)"
      ],
      "metadata": {
        "colab": {
          "base_uri": "https://localhost:8080/"
        },
        "id": "0H5pX35Rju1w",
        "outputId": "8c0a5b6d-e846-49b0-a1ab-6423f383f2ee"
      },
      "execution_count": null,
      "outputs": [
        {
          "output_type": "stream",
          "name": "stdout",
          "text": [
            "172/172 [==============================] - 130s 733ms/step - loss: 2.7358\n"
          ]
        },
        {
          "output_type": "execute_result",
          "data": {
            "text/plain": [
              "<keras.src.callbacks.History at 0x789b3c25bfd0>"
            ]
          },
          "metadata": {},
          "execution_count": 95
        }
      ]
    },
    {
      "cell_type": "code",
      "source": [
        "EPOCHS = 10\n",
        "\n",
        "mean = tf.metrics.Mean()\n",
        "\n",
        "for epoch in range(EPOCHS):\n",
        "  start = time.time()\n",
        "\n",
        "  mean.reset_states()\n",
        "  for (batch_n, (inp, target)) in enumerate(dataset):\n",
        "    logs = model.train_step([inp, target])\n",
        "    mean.update_state(logs['loss'])\n",
        "\n",
        "    if batch_n % 50 == 0:\n",
        "      template = f\"Epoch {epoch+1} Batch {batch_n} Loss {logs['loss']:.4f}\"\n",
        "      print(template)\n",
        "\n",
        "  # saving (checkpoint) the model every 5 epochs\n",
        "  if (epoch + 1) % 5 == 0:\n",
        "    model.save_weights(checkpoint_prefix.format(epoch=epoch))\n",
        "\n",
        "  print()\n",
        "  print(f'Epoch {epoch+1} Loss: {mean.result().numpy():.4f}')\n",
        "  print(f'Time taken for 1 epoch {time.time() - start:.2f} sec')\n",
        "  print(\"_\"*80)\n",
        "\n",
        "model.save_weights(checkpoint_prefix.format(epoch=epoch))"
      ],
      "metadata": {
        "colab": {
          "base_uri": "https://localhost:8080/"
        },
        "id": "839I5k7ajwfr",
        "outputId": "3c58b1d1-5010-4570-cbe3-d99c7e9d31ae"
      },
      "execution_count": null,
      "outputs": [
        {
          "output_type": "stream",
          "name": "stdout",
          "text": [
            "Epoch 1 Batch 0 Loss 2.1996\n",
            "Epoch 1 Batch 50 Loss 2.0444\n",
            "Epoch 1 Batch 100 Loss 1.9380\n",
            "Epoch 1 Batch 150 Loss 1.8620\n",
            "\n",
            "Epoch 1 Loss: 2.0026\n",
            "Time taken for 1 epoch 129.95 sec\n",
            "________________________________________________________________________________\n",
            "Epoch 2 Batch 0 Loss 1.8246\n",
            "Epoch 2 Batch 50 Loss 1.7962\n",
            "Epoch 2 Batch 100 Loss 1.7069\n",
            "Epoch 2 Batch 150 Loss 1.6473\n",
            "\n",
            "Epoch 2 Loss: 1.7184\n",
            "Time taken for 1 epoch 128.82 sec\n",
            "________________________________________________________________________________\n",
            "Epoch 3 Batch 0 Loss 1.6054\n",
            "Epoch 3 Batch 50 Loss 1.5956\n",
            "Epoch 3 Batch 100 Loss 1.5796\n",
            "Epoch 3 Batch 150 Loss 1.5232\n",
            "\n",
            "Epoch 3 Loss: 1.5539\n",
            "Time taken for 1 epoch 126.85 sec\n",
            "________________________________________________________________________________\n",
            "Epoch 4 Batch 0 Loss 1.4541\n",
            "Epoch 4 Batch 50 Loss 1.4606\n",
            "Epoch 4 Batch 100 Loss 1.4728\n",
            "Epoch 4 Batch 150 Loss 1.3912\n",
            "\n",
            "Epoch 4 Loss: 1.4540\n",
            "Time taken for 1 epoch 128.11 sec\n",
            "________________________________________________________________________________\n",
            "Epoch 5 Batch 0 Loss 1.4152\n",
            "Epoch 5 Batch 50 Loss 1.3882\n",
            "Epoch 5 Batch 100 Loss 1.3800\n",
            "Epoch 5 Batch 150 Loss 1.3412\n",
            "\n",
            "Epoch 5 Loss: 1.3851\n",
            "Time taken for 1 epoch 131.49 sec\n",
            "________________________________________________________________________________\n",
            "Epoch 6 Batch 0 Loss 1.3347\n",
            "Epoch 6 Batch 50 Loss 1.2929\n",
            "Epoch 6 Batch 100 Loss 1.3649\n",
            "Epoch 6 Batch 150 Loss 1.3463\n",
            "\n",
            "Epoch 6 Loss: 1.3321\n",
            "Time taken for 1 epoch 133.54 sec\n",
            "________________________________________________________________________________\n",
            "Epoch 7 Batch 0 Loss 1.3015\n",
            "Epoch 7 Batch 50 Loss 1.2868\n",
            "Epoch 7 Batch 100 Loss 1.2906\n",
            "Epoch 7 Batch 150 Loss 1.3035\n",
            "\n",
            "Epoch 7 Loss: 1.2861\n",
            "Time taken for 1 epoch 125.61 sec\n",
            "________________________________________________________________________________\n",
            "Epoch 8 Batch 0 Loss 1.2302\n",
            "Epoch 8 Batch 50 Loss 1.2481\n",
            "Epoch 8 Batch 100 Loss 1.2588\n",
            "Epoch 8 Batch 150 Loss 1.2407\n",
            "\n",
            "Epoch 8 Loss: 1.2448\n",
            "Time taken for 1 epoch 125.85 sec\n",
            "________________________________________________________________________________\n",
            "Epoch 9 Batch 0 Loss 1.1984\n",
            "Epoch 9 Batch 50 Loss 1.1998\n",
            "Epoch 9 Batch 100 Loss 1.2413\n",
            "Epoch 9 Batch 150 Loss 1.1829\n",
            "\n",
            "Epoch 9 Loss: 1.2043\n",
            "Time taken for 1 epoch 125.96 sec\n",
            "________________________________________________________________________________\n",
            "Epoch 10 Batch 0 Loss 1.1584\n",
            "Epoch 10 Batch 50 Loss 1.1661\n",
            "Epoch 10 Batch 100 Loss 1.1617\n",
            "Epoch 10 Batch 150 Loss 1.1546\n",
            "\n",
            "Epoch 10 Loss: 1.1637\n",
            "Time taken for 1 epoch 127.11 sec\n",
            "________________________________________________________________________________\n"
          ]
        }
      ]
    },
    {
      "cell_type": "markdown",
      "source": [
        "Jalankan kode diatas dan sebutkan perbedaanya dengan praktikum 2?\n",
        "\n",
        "\n",
        "**Jawab :**\n",
        "\n",
        "Pada praktikum 2, pelatihan model dilakukan dengan metode model.fit(), yang merupakan cara pelatihan standar dan sering digunakan karena kesederhanaannya. Sebaliknya, dalam kode tugas, pelatihan model menggunakan pendekatan yang lebih kompleks dan terperinci, dengan sejumlah kustomisasi.\n",
        "\n",
        "Pada pendekatan yang lebih mendetail ini, metode train_step() didefinisikan dalam model turunan, yang memungkinkan pengaturan pelatihan pada level batch. Dalam metode ini, loss dihitung, gradien diambil, dan pembaruan bobot model dilakukan menggunakan apply_gradients(). Selain itu, objek tf.metrics.Mean() digunakan untuk menghitung rata-rata loss selama pelatihan. Pendekatan ini memberikan kontrol yang lebih besar dan fleksibilitas lebih tinggi dalam mengatur proses pelatihan model."
      ],
      "metadata": {
        "id": "9EMZ-Z3m0GpC"
      }
    }
  ]
}